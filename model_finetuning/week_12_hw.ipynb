{
 "cells": [
  {
   "cell_type": "markdown",
   "id": "8b69fd78",
   "metadata": {},
   "source": [
    "Implementation of the following formula:\n",
    "$$\n",
    "z = x\n",
    "$$"
   ]
  },
  {
   "cell_type": "markdown",
   "id": "8d261b14",
   "metadata": {},
   "source": []
  }
 ],
 "metadata": {
  "language_info": {
   "name": "python"
  }
 },
 "nbformat": 4,
 "nbformat_minor": 5
}
