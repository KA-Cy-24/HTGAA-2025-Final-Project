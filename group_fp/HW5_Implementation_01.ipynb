{
  "cells": [
    {
      "cell_type": "markdown",
      "metadata": {
        "id": "8X97Vxj0MH_X"
      },
      "source": [
        "## Introduction"
      ]
    },
    {
      "cell_type": "markdown",
      "metadata": {
        "id": "1PqXrLPUMH_a"
      },
      "source": [
        "This notebook contains the code for implementing a GA with a modified encoding scheme instead of the one previously proposed in our group project proposal: values `0` to `19` for each of the 20 amino acids. The fitness function essentially evaluates the fitness using the PSSM generated as a result of iterating PSI-BLAST on UniProt/Swiss-Prot Manually Annotated dataset for 5 times."
      ]
    },
    {
      "cell_type": "markdown",
      "metadata": {
        "id": "Y3WfbltdMH_a"
      },
      "source": [
        "MS2-L protein sequence retrieved from Uniprot:\n",
        "\n",
        "<span style='color: gray;'>M</span>ETRFPQQSQQTPASTNRRRPFKHEDYPCRRQQRSST<span style='color: magenta;'>LYVLIFLAIF</span><span style='color: lime;'>LS</span><span style='color: cyan'>K</span>FTNQLLLSLLEAVIRTVTTLQQLLT\n",
        "\n",
        "The sequence has been color-coded to represent key residues/motifs that are thought to be conserved and key to its function and its related **single gene lysis** protein relatives.\n",
        "\n",
        "The sequence is also available for copying:\n",
        "`METRFPQQSQQTPASTNRRRPFKHEDYPCRRQQRSSTLYVLIFLAIFLSKFTNQLLLSLLEAVIRTVTTLQQLLT`"
      ]
    },
    {
      "cell_type": "markdown",
      "metadata": {
        "id": "Hwo7aKUpMH_b"
      },
      "source": [
        "## 1. Preliminaries"
      ]
    },
    {
      "cell_type": "markdown",
      "metadata": {
        "id": "YOIjzCHKMH_b"
      },
      "source": [
        "Herein the libraries and models in use are loaded and properly installed if needed."
      ]
    },
    {
      "cell_type": "code",
      "execution_count": null,
      "metadata": {
        "id": "Ez2wvuCjMH_c"
      },
      "outputs": [],
      "source": [
        "# UNUSED: Load this if you want to work with pygad (description above)\n",
        "from pygad import GA"
      ]
    },
    {
      "cell_type": "code",
      "execution_count": 1,
      "metadata": {
        "id": "9sLSMKvSMH_d"
      },
      "outputs": [],
      "source": [
        "# Load this if you want to use my custom genetic algorithm class\n",
        "import random as r\n",
        "import numpy as np\n",
        "from matplotlib import pyplot as plt"
      ]
    },
    {
      "cell_type": "code",
      "execution_count": 2,
      "metadata": {
        "id": "X8P_M69RMH_d"
      },
      "outputs": [],
      "source": [
        "# \"chromosome\" and GA class definition\n",
        "class chromosome:\n",
        "    def __init__(self, length = 75, numerical = True, possible_values = \"ARNDCQEGHILKMFPSTWYV\",\n",
        "                 gene = \"\", custom_range : tuple[int] | None = None, pssm : dict = None, custom_init = None):\n",
        "        self.gene = gene\n",
        "        self.length = length\n",
        "        self.numerical = numerical\n",
        "        self.possible_values = possible_values\n",
        "        self.custom_range = custom_range\n",
        "        self.custom_init = custom_init\n",
        "        self.pssm = pssm\n",
        "        self.initialize()\n",
        "    def initialize(self):\n",
        "        if (self.numerical and len(self.values) <= 2):\n",
        "            self.gene = ''.join([r.randint(0, 1)])\n",
        "        else:\n",
        "            if (self.pssm == None or self.custom_range == None):\n",
        "                self.gene = ''.join(r.choice(self.possible_values))\n",
        "            else:\n",
        "                for pos in range(18, 28):\n",
        "                    self.gene = ''.join([r.choices(population=self.possible_values, weights=self.pssm[pos])])\n",
        "    def printChromosome(self):\n",
        "        print(self.gene)\n",
        "    def getChromosome(self):\n",
        "        self.gene = str(self.gene)\n",
        "    def __len__(self):\n",
        "        return self.length\n",
        "\n",
        "class GeneticAlgorithm():\n",
        "    def __init__(self, setPop = 100, mutationRate = 4, generationNumber = 1, generationLimit = 100, selectionCoef = 0.5,\n",
        "                 on_start = None, on_mutation = None, fitness = None):\n",
        "        #setPop (the starting population) is defaulted out to 100, although it would be computationally heavy to process that number of chromosomes:\n",
        "        self.setPop = setPop\n",
        "        while self.setPop < 3:\n",
        "            print(\"Error: Low starting population! Set a higher number:\")\n",
        "            self.setPop = int(input(\"New population size: \"))\n",
        "        self.fitness = self.on_start = self.on_mutation = None\n",
        "        # Setting up custom functions should they exist\n",
        "        if (fitness):\n",
        "            self.fitness = fitness\n",
        "        if (on_start):\n",
        "            self.initializePop = on_start\n",
        "        if (on_mutation):\n",
        "            self.on_mutation = on_mutation\n",
        "        # Initializing the population of solutions\n",
        "        self.chrPop = []\n",
        "        self.initializePop()\n",
        "        # Setting up the GA instance parameters\n",
        "        self.mutationRate = mutationRate\n",
        "        self.generationNumber = generationNumber\n",
        "        self.generationLimit = generationLimit\n",
        "        self.selectionCoef = int(1/selectionCoef)\n",
        "        self.solution_length = len(self.chrPop[0])\n",
        "\n",
        "    def initializePop(self):\n",
        "        self.chrPop = [chromosome().gene for x in range(self.setPop)]\n",
        "\n",
        "    def fitnessScore(self, population, ReportMaxValue = True, ReportPopulationFitness = False):\n",
        "        matchValue = []\n",
        "        scoreValue = 0\n",
        "        if (self.fitness):\n",
        "            for chr in population:\n",
        "                matchValue.append(self.fitness)\n",
        "            scoreValue = (np.sum(matchValue) / len(population)) * 100\n",
        "        for chr in population:\n",
        "            chromosomeMatch = 0\n",
        "            for x in range(len(chr)):\n",
        "                if chr[x] == self.chrRef[x]:\n",
        "                    chromosomeMatch += 1\n",
        "            matchValue.append(chromosomeMatch / self.solution_length)\n",
        "        scoreValue = (np.sum(matchValue) / len(self.chrPop))*100\n",
        "        if ReportPopulationFitness == False:\n",
        "            if ReportMaxValue == True:\n",
        "                return max(matchValue)\n",
        "            else:\n",
        "                return(matchValue.index(max(matchValue)))\n",
        "        else:\n",
        "            return scoreValue\n",
        "\n",
        "    def sortFunction(self):\n",
        "        initialPopulation = self.chrPop\n",
        "        fitPopulation = []\n",
        "        for x in range(len(self.chrPop)):\n",
        "            index = self.fitnessScore(initialPopulation, False)\n",
        "            fitPopulation.append(initialPopulation[index])\n",
        "            initialPopulation.pop(index)\n",
        "        self.chrPop = fitPopulation\n",
        "\n",
        "    def selectionFunction(self):\n",
        "        # The default value for selectionCoef is 0.5, therefore self.selectionCoef equals 1/0.5 or 2, \"selecting\" only the chromosomes succeeding the 50th percentile:\n",
        "        self.chrPop = self.chrPop[:len(self.chrPop) // self.selectionCoef]\n",
        "\n",
        "    def crossover(self):\n",
        "        # Defining indecies A and B for pairing random chromosomes chrA and chrB:\n",
        "        for x in range(len(self.chrPop) // 2):\n",
        "            self.fitnessScore(self.chrPop)\n",
        "            A = r.randrange(len(self.chrPop))\n",
        "            B = r.randrange(len(self.chrPop))\n",
        "            parentA = self.chrPop[A]\n",
        "            parentB = self.chrPop[B]\n",
        "            parentAList, parentBList = list(parentA), list(parentB)\n",
        "            crossoverPosition = r.randrange(self.solution_length)\n",
        "            # Cutting and rejoining random segments on chrA and chrB (crossing over):\n",
        "            offspring1, offspring2 = parentAList[:crossoverPosition], parentAList[crossoverPosition:]\n",
        "            offspring1.extend(parentBList[crossoverPosition:])\n",
        "            offspring2.extend(parentBList[:crossoverPosition])\n",
        "            offspring1Chromosome, offspring2Chromosome = \"\", \"\"\n",
        "            offspring1Chromosome = ''.join(offspring1)\n",
        "            offspring2Chromosome = ''.join(offspring2)\n",
        "            self.chrPop.append(offspring1Chromosome)\n",
        "            self.chrPop.append(offspring2Chromosome)\n",
        "\n",
        "    def mutation(self):\n",
        "        for x in range(self.mutationRate):\n",
        "            # Defining index A for mutating random chromosome chrA:\n",
        "            A = r.randrange(len(self.chrPop))\n",
        "            chrA = self.chrPop[A]\n",
        "            chrAList = list(chrA)\n",
        "            # Mutating chrA at a random position:\n",
        "            chrAList[r.randrange(len(chrA))] = str(r.randint(0,1))\n",
        "            chrA = ''.join(chrAList)\n",
        "            self.chrPop[A] = chrA\n",
        "\n",
        "    def printPopulation(self):\n",
        "        print(\"Current population:\", len(self.chrPop))\n",
        "        for x in range(len(self.chrPop)):\n",
        "            print(\"Chromosome #\" + str(x+1) + \": \" + str(self.chrPop[x]), end=\";\\n\")\n",
        "        index = self.fitnessScore(self.chrPop, False)\n",
        "        print(\"The fittest chromosome:\", self.chrPop[index])\n",
        "\n",
        "    def runSimulation(self):\n",
        "        print(\"Starting population fitness score:\", self.fitnessScore(self.chrPop))\n",
        "        print(\"Starting fitness score for the best chromosome:\", self.fitnessScore(self.chrPop))\n",
        "        print(\"Starting population:\", self.setPop)\n",
        "        xAxis = [self.generationNumber]\n",
        "        yAxis = [self.fitnessScore(self.chrPop)]\n",
        "        while self.generationNumber <= self.generationLimit:\n",
        "            print(\"Fitness score for the best chromosome:\", self.fitnessScore(self.chrPop))\n",
        "            print(\"Generation #\", self.generationNumber, sep=\"\")\n",
        "            print(\"Population fitness score:\", self.fitnessScore(self.chrPop, False, True))\n",
        "            # Appending more elements to x-axis and y-axis lists:\n",
        "            xAxis.append(self.generationNumber + 1)\n",
        "            yAxis.append(self.fitnessScore(self.chrPop))\n",
        "            #self.printPopulation()\n",
        "            # Sorting the solutions on the basis of their fitness\n",
        "            self.sortFunction()\n",
        "            self.selectionFunction()\n",
        "            # Check whether on_mutation is not null\n",
        "            self.mutation()\n",
        "            # Perform crossover\n",
        "            self.crossover()\n",
        "            self.generationNumber += 1\n",
        "        print(\"The resulting population:\")\n",
        "        self.printPopulation()\n",
        "        print(\"The final fitness of generation Z:\", self.fitnessScore(self.chrPop, False, True))\n",
        "        print(\"The score for the fittest chromosome:\", self.fitnessScore(self.chrPop))\n",
        "        print(\"END OF SIMULATION.\")\n",
        "        # The final point:\n",
        "        xAxis.append(self.generationNumber + 1)\n",
        "        yAxis.append(self.fitnessScore(self.chrPop))\n",
        "        plt.plot(xAxis, yAxis)\n",
        "        plt.xlabel(\"Generations\")\n",
        "        plt.ylabel(\"Chromosome fitness\")\n",
        "        plt.title(\"Genetic Algorithm for Simulating and Selecting Individual Chromosomes (GASSIC)\")\n",
        "        plt.grid(True)\n",
        "        plt.show()\n",
        "\n",
        "    def fullySelectiveSimulation(self, threshold):\n",
        "        print(\"Starting population fitness score:\", self.fitnessScore(self.chrPop))\n",
        "        print(\"Starting fitness score for the best chromosome:\", self.fitnessScore(self.chrPop))\n",
        "        print(\"Starting population:\", self.setPop)\n",
        "        while self.fitnessScore(self.chrPop, False, True) < threshold:\n",
        "            print(\"Fitness score for the best chromosome:\", self.fitnessScore(self.chrPop))\n",
        "            print(\"Generation #\", self.generationNumber, sep=\"\")\n",
        "            print(\"Population fitness score:\", self.fitnessScore(self.chrPop, False, True))\n",
        "            #self.printPopulation()\n",
        "            self.sortFunction()\n",
        "            self.selectionFunction()\n",
        "            self.mutation()\n",
        "            self.crossover()\n",
        "            self.generationNumber += 1\n",
        "        print(\"The resulting population:\")\n",
        "        self.printPopulation()\n",
        "        print(\"The final fitness of generation Z:\", self.fitnessScore(self.chrPop, False, True))\n",
        "        print(\"The score for the fittest chromosome:\", self.fitnessScore(self.chrPop))\n",
        "        print(\"END OF SIMULATION.\")"
      ]
    },
    {
      "cell_type": "code",
      "execution_count": null,
      "metadata": {
        "id": "6yb6-K-NMH_g"
      },
      "outputs": [],
      "source": [
        "# Generating a prediction for the initial sequence (using 2 recycle steps and 180 sampling steps)\n",
        "!boltz predict \"/workspaces/codespaces-jupyter/HTGAA/prediction_directory/HW5/initial_seq.fasta\" --use_msa_server --recycling_steps 2 --sampling_steps 180 --accelerator cpu --out_dir \"/workspaces/codespaces-jupyter/HTGAA/prediction_directory/HW5\""
      ]
    },
    {
      "cell_type": "markdown",
      "metadata": {
        "id": "ftXOgWPrMH_h"
      },
      "source": [
        "## 2. Defining Custom Functions"
      ]
    },
    {
      "cell_type": "markdown",
      "metadata": {
        "id": "3sIFUOkkMH_h"
      },
      "source": [
        "### 2.1. Parsing PSSM\n",
        "\n",
        "In this part of the notebook, a PSSM for MS2-L (consisting of 75 residues for the matrices row-wise) will be loaded and parsed to create a position-specific list of amino acid weights. These weigths will be used in the `mutation_rule_for_ms2l` and `pssm_integration` functions as per the parameters set."
      ]
    },
    {
      "cell_type": "code",
      "execution_count": 3,
      "metadata": {
        "id": "2irxwa8vMH_h"
      },
      "outputs": [],
      "source": [
        "# Loading the PrettyTable library in order to visualize the PSSM\n",
        "import prettytable"
      ]
    },
    {
      "cell_type": "code",
      "execution_count": null,
      "metadata": {
        "id": "Q81Bx2sNMH_i",
        "outputId": "7be40ae0-c7dc-47d0-8757-b7e0ccdd8dc0"
      },
      "outputs": [
        {
          "name": "stdout",
          "output_type": "stream",
          "text": [
            "{1: [0.1, 0.1, 0.05, 0.0, 0.05, 0.15, 0.05, 0.0, 0.05, 0.2, 0.25, 0.1, 0.45, 0.15, 0.0, 0.05, 0.1, 0.05, 0.1, 0.2], 2: [0.15, 0.2, 0.2, 0.3, 0.0, 0.3, 0.45, 0.1, 0.2, 0.05, 0.05, 0.25, 0.1, 0.05, 0.15, 0.2, 0.15, 0.05, 0.1, 0.05], 3: [0.1, 0.05, 0.1, 0.05, 0.1, 0.05, 0.05, 0.0, 0.0, 0.3, 0.2, 0.05, 0.2, 0.1, 0.05, 0.15, 0.3, 0.0, 0.05, 0.25], 4: [0.15, 0.5, 0.2, 0.1, 0.0, 0.25, 0.2, 0.1, 0.2, 0.05, 0.1, 0.3, 0.15, 0.05, 0.1, 0.15, 0.15, 0.05, 0.1, 0.05], 5: [0.1, 0.05, 0.05, 0.05, 0.05, 0.05, 0.05, 0.05, 0.1, 0.1, 0.15, 0.05, 0.15, 0.45, 0.0, 0.2, 0.1, 0.15, 0.25, 0.1], 6: [0.15, 0.1, 0.1, 0.1, 0.05, 0.15, 0.15, 0.1, 0.1, 0.1, 0.15, 0.15, 0.1, 0.05, 0.6, 0.15, 0.15, 0.0, 0.05, 0.1], 7: [0.1, 0.35, 0.15, 0.1, 0.0, 0.35, 0.2, 0.05, 0.15, 0.0, 0.05, 0.25, 0.1, 0.0, 0.05, 0.15, 0.1, 0.05, 0.05, 0.0], 8: [0.1, 0.2, 0.15, 0.1, 0.0, 0.4, 0.25, 0.05, 0.15, 0.0, 0.05, 0.2, 0.1, 0.0, 0.3, 0.15, 0.1, 0.05, 0.05, 0.05], 9: [0.2, 0.1, 0.15, 0.1, 0.1, 0.15, 0.15, 0.1, 0.1, 0.05, 0.05, 0.15, 0.1, 0.05, 0.1, 0.35, 0.3, 0.0, 0.05, 0.1], 10: [0.1, 0.2, 0.15, 0.15, 0.0, 0.45, 0.25, 0.05, 0.15, 0.0, 0.05, 0.2, 0.1, 0.0, 0.1, 0.15, 0.1, 0.05, 0.05, 0.05], 11: [0.1, 0.2, 0.15, 0.1, 0.0, 0.4, 0.25, 0.05, 0.15, 0.0, 0.05, 0.2, 0.1, 0.0, 0.3, 0.15, 0.1, 0.05, 0.05, 0.05], 12: [0.25, 0.1, 0.1, 0.1, 0.1, 0.1, 0.1, 0.1, 0.05, 0.1, 0.1, 0.1, 0.1, 0.05, 0.1, 0.2, 0.35, 0.0, 0.05, 0.15], 13: [0.15, 0.25, 0.1, 0.1, 0.05, 0.15, 0.15, 0.1, 0.1, 0.05, 0.05, 0.2, 0.1, 0.0, 0.55, 0.15, 0.15, 0.0, 0.05, 0.05], 14: [0.3, 0.1, 0.15, 0.15, 0.1, 0.15, 0.25, 0.2, 0.1, 0.05, 0.05, 0.15, 0.1, 0.0, 0.1, 0.25, 0.15, 0.0, 0.05, 0.1], 15: [0.2, 0.05, 0.1, 0.05, 0.05, 0.05, 0.05, 0.1, 0.05, 0.0, 0.0, 0.05, 0.05, 0.1, 0.05, 0.25, 0.15, 0.0, 0.05, 0.05], 16: [0.1, 0.05, 0.1, 0.05, 0.05, 0.05, 0.05, 0.0, 0.0, 0.1, 0.05, 0.05, 0.05, 0.0, 0.05, 0.15, 0.35, 0.0, 0.0, 0.1], 17: [0.1, 0.3, 0.35, 0.15, 0.0, 0.2, 0.15, 0.1, 0.15, 0.0, 0.0, 0.25, 0.05, 0.0, 0.05, 0.15, 0.15, 0.0, 0.05, 0.0], 18: [0.1, 0.4, 0.15, 0.1, 0.0, 0.2, 0.15, 0.05, 0.1, 0.0, 0.05, 0.35, 0.1, 0.0, 0.05, 0.1, 0.1, 0.0, 0.05, 0.0], 19: [0.05, 0.2, 0.05, 0.05, 0.0, 0.2, 0.1, 0.0, 0.05, 0.0, 0.0, 0.1, 0.05, 0.05, 0.2, 0.1, 0.2, 0.0, 0.1, 0.05], 20: [0.1, 0.35, 0.3, 0.15, 0.0, 0.2, 0.15, 0.05, 0.15, 0.05, 0.05, 0.25, 0.1, 0.0, 0.05, 0.15, 0.1, 0.0, 0.05, 0.1], 21: [0.2, 0.05, 0.1, 0.1, 0.05, 0.1, 0.1, 0.1, 0.05, 0.0, 0.0, 0.1, 0.05, 0.0, 0.45, 0.25, 0.15, 0.0, 0.05, 0.05], 22: [0.05, 0.05, 0.05, 0.0, 0.05, 0.05, 0.0, 0.0, 0.05, 0.15, 0.15, 0.05, 0.15, 0.45, 0.0, 0.1, 0.25, 0.15, 0.25, 0.1], 23: [0.1, 0.25, 0.15, 0.1, 0.0, 0.25, 0.2, 0.05, 0.1, 0.0, 0.0, 0.4, 0.1, 0.0, 0.1, 0.15, 0.1, 0.0, 0.05, 0.05], 24: [0.1, 0.1, 0.15, 0.1, 0.05, 0.15, 0.15, 0.1, 0.5, 0.0, 0.0, 0.1, 0.05, 0.05, 0.05, 0.25, 0.15, 0.0, 0.2, 0.0], 25: [0.15, 0.35, 0.2, 0.2, 0.0, 0.3, 0.4, 0.1, 0.2, 0.05, 0.05, 0.35, 0.1, 0.05, 0.15, 0.2, 0.15, 0.05, 0.1, 0.05], 26: [0.25, 0.1, 0.15, 0.35, 0.05, 0.15, 0.3, 0.1, 0.1, 0.0, 0.0, 0.15, 0.05, 0.0, 0.1, 0.15, 0.1, 0.0, 0.05, 0.05], 27: [0.05, 0.15, 0.25, 0.1, 0.0, 0.3, 0.15, 0.05, 0.2, 0.05, 0.05, 0.15, 0.1, 0.2, 0.05, 0.1, 0.1, 0.2, 0.4, 0.05], 28: [0.1, 0.05, 0.1, 0.05, 0.0, 0.1, 0.1, 0.0, 0.4, 0.1, 0.15, 0.1, 0.1, 0.05, 0.45, 0.1, 0.1, 0.0, 0.15, 0.05], 29: [0.15, 0.0, 0.05, 0.0, 0.55, 0.05, 0.0, 0.05, 0.0, 0.1, 0.1, 0.05, 0.1, 0.0, 0.05, 0.15, 0.25, 0.0, 0.05, 0.1], 30: [0.1, 0.35, 0.15, 0.1, 0.0, 0.25, 0.15, 0.05, 0.1, 0.0, 0.05, 0.3, 0.1, 0.0, 0.1, 0.2, 0.15, 0.0, 0.05, 0.05], 31: [0.05, 0.4, 0.2, 0.25, 0.0, 0.2, 0.15, 0.05, 0.15, 0.0, 0.0, 0.2, 0.05, 0.0, 0.05, 0.1, 0.1, 0.0, 0.05, 0.0], 32: [0.15, 0.2, 0.15, 0.1, 0.0, 0.35, 0.2, 0.1, 0.15, 0.0, 0.05, 0.3, 0.1, 0.0, 0.1, 0.2, 0.15, 0.0, 0.05, 0.05], 33: [0.1, 0.2, 0.15, 0.1, 0.0, 0.4, 0.25, 0.05, 0.15, 0.0, 0.05, 0.3, 0.1, 0.0, 0.1, 0.15, 0.1, 0.05, 0.05, 0.05], 34: [0.1, 0.4, 0.15, 0.1, 0.0, 0.2, 0.15, 0.05, 0.1, 0.0, 0.05, 0.3, 0.1, 0.0, 0.05, 0.1, 0.1, 0.0, 0.05, 0.0], 35: [0.2, 0.1, 0.2, 0.15, 0.1, 0.15, 0.15, 0.15, 0.1, 0.0, 0.0, 0.15, 0.05, 0.0, 0.1, 0.35, 0.2, 0.0, 0.05, 0.05], 36: [0.15, 0.15, 0.3, 0.15, 0.05, 0.15, 0.15, 0.1, 0.15, 0.0, 0.0, 0.25, 0.05, 0.0, 0.1, 0.3, 0.2, 0.0, 0.05, 0.05], 37: [0.15, 0.25, 0.15, 0.1, 0.1, 0.15, 0.1, 0.05, 0.1, 0.1, 0.05, 0.15, 0.1, 0.05, 0.1, 0.2, 0.35, 0.0, 0.05, 0.1], 38: [0.1, 0.05, 0.0, 0.0, 0.15, 0.1, 0.05, 0.0, 0.05, 0.35, 0.4, 0.05, 0.3, 0.2, 0.05, 0.05, 0.15, 0.1, 0.15, 0.25], 39: [0.05, 0.1, 0.05, 0.1, 0.0, 0.15, 0.25, 0.0, 0.2, 0.05, 0.05, 0.1, 0.1, 0.25, 0.05, 0.1, 0.05, 0.2, 0.45, 0.05], 40: [0.15, 0.05, 0.05, 0.0, 0.1, 0.05, 0.05, 0.0, 0.0, 0.25, 0.15, 0.05, 0.15, 0.1, 0.05, 0.15, 0.25, 0.0, 0.1, 0.3], 41: [0.1, 0.1, 0.05, 0.0, 0.1, 0.1, 0.05, 0.05, 0.05, 0.25, 0.35, 0.05, 0.25, 0.2, 0.05, 0.05, 0.1, 0.55, 0.2, 0.2], 42: [0.15, 0.05, 0.05, 0.05, 0.15, 0.05, 0.05, 0.0, 0.05, 0.4, 0.25, 0.05, 0.25, 0.2, 0.05, 0.1, 0.15, 0.05, 0.15, 0.35], 43: [0.2, 0.0, 0.0, 0.0, 0.25, 0.0, 0.0, 0.05, 0.05, 0.25, 0.15, 0.05, 0.15, 0.35, 0.0, 0.1, 0.1, 0.1, 0.2, 0.2], 44: [0.2, 0.05, 0.0, 0.0, 0.1, 0.05, 0.05, 0.05, 0.0, 0.2, 0.3, 0.05, 0.2, 0.15, 0.05, 0.1, 0.1, 0.05, 0.1, 0.2], 45: [0.35, 0.05, 0.05, 0.05, 0.1, 0.1, 0.1, 0.15, 0.05, 0.1, 0.05, 0.1, 0.1, 0.05, 0.1, 0.2, 0.15, 0.0, 0.05, 0.15], 46: [0.15, 0.05, 0.05, 0.05, 0.15, 0.05, 0.05, 0.0, 0.05, 0.45, 0.3, 0.05, 0.25, 0.2, 0.05, 0.05, 0.15, 0.05, 0.15, 0.35], 47: [0.1, 0.0, 0.0, 0.0, 0.05, 0.0, 0.0, 0.0, 0.05, 0.25, 0.2, 0.0, 0.15, 0.35, 0.0, 0.05, 0.1, 0.1, 0.2, 0.25], 48: [0.1, 0.05, 0.0, 0.0, 0.1, 0.05, 0.0, 0.0, 0.0, 0.25, 0.3, 0.05, 0.25, 0.15, 0.0, 0.05, 0.1, 0.05, 0.1, 0.25], 49: [0.2, 0.1, 0.15, 0.1, 0.1, 0.15, 0.15, 0.1, 0.1, 0.05, 0.05, 0.15, 0.1, 0.05, 0.1, 0.3, 0.3, 0.0, 0.05, 0.1], 50: [0.1, 0.2, 0.15, 0.25, 0.0, 0.15, 0.15, 0.05, 0.1, 0.1, 0.2, 0.3, 0.15, 0.05, 0.05, 0.1, 0.1, 0.0, 0.05, 0.1], 51: [0.1, 0.05, 0.05, 0.0, 0.05, 0.05, 0.05, 0.05, 0.2, 0.15, 0.2, 0.05, 0.2, 0.5, 0.0, 0.1, 0.1, 0.25, 0.45, 0.15], 52: [0.15, 0.1, 0.15, 0.1, 0.1, 0.1, 0.1, 0.05, 0.05, 0.1, 0.1, 0.1, 0.1, 0.05, 0.1, 0.2, 0.4, 0.0, 0.05, 0.15], 53: [0.1, 0.1, 0.35, 0.15, 0.05, 0.1, 0.1, 0.1, 0.1, 0.2, 0.1, 0.1, 0.1, 0.05, 0.05, 0.25, 0.15, 0.0, 0.05, 0.15], 54: [0.1, 0.15, 0.1, 0.1, 0.0, 0.3, 0.15, 0.05, 0.35, 0.1, 0.1, 0.15, 0.1, 0.15, 0.05, 0.1, 0.1, 0.15, 0.35, 0.1], 55: [0.1, 0.05, 0.0, 0.0, 0.1, 0.05, 0.05, 0.0, 0.05, 0.3, 0.35, 0.05, 0.25, 0.3, 0.05, 0.05, 0.15, 0.5, 0.2, 0.25], 56: [0.1, 0.05, 0.0, 0.0, 0.05, 0.05, 0.0, 0.0, 0.05, 0.25, 0.3, 0.0, 0.2, 0.3, 0.0, 0.1, 0.1, 0.1, 0.2, 0.2], 57: [0.15, 0.05, 0.05, 0.0, 0.05, 0.05, 0.05, 0.3, 0.25, 0.15, 0.25, 0.05, 0.15, 0.1, 0.0, 0.1, 0.05, 0.45, 0.15, 0.1], 58: [0.15, 0.1, 0.15, 0.1, 0.05, 0.3, 0.15, 0.25, 0.1, 0.0, 0.0, 0.15, 0.1, 0.05, 0.1, 0.3, 0.15, 0.35, 0.1, 0.05], 59: [0.1, 0.1, 0.0, 0.0, 0.15, 0.1, 0.05, 0.0, 0.05, 0.3, 0.4, 0.05, 0.3, 0.2, 0.05, 0.05, 0.15, 0.1, 0.15, 0.25], 60: [0.1, 0.1, 0.0, 0.0, 0.1, 0.1, 0.05, 0.0, 0.05, 0.25, 0.4, 0.05, 0.3, 0.2, 0.05, 0.05, 0.15, 0.45, 0.15, 0.2], 61: [0.1, 0.1, 0.15, 0.25, 0.0, 0.15, 0.3, 0.2, 0.1, 0.2, 0.1, 0.15, 0.1, 0.05, 0.05, 0.1, 0.1, 0.0, 0.05, 0.15], 62: [0.3, 0.05, 0.05, 0.0, 0.1, 0.1, 0.05, 0.1, 0.05, 0.15, 0.25, 0.05, 0.2, 0.1, 0.05, 0.15, 0.1, 0.05, 0.1, 0.15], 63: [0.15, 0.05, 0.05, 0.05, 0.15, 0.1, 0.05, 0.0, 0.05, 0.35, 0.3, 0.05, 0.25, 0.2, 0.05, 0.1, 0.15, 0.05, 0.15, 0.35], 64: [0.15, 0.05, 0.05, 0.05, 0.15, 0.05, 0.05, 0.0, 0.05, 0.4, 0.3, 0.05, 0.25, 0.2, 0.05, 0.05, 0.15, 0.1, 0.15, 0.3], 65: [0.05, 0.4, 0.1, 0.05, 0.0, 0.2, 0.15, 0.0, 0.1, 0.05, 0.15, 0.25, 0.1, 0.05, 0.05, 0.1, 0.1, 0.0, 0.05, 0.05], 66: [0.15, 0.05, 0.1, 0.05, 0.1, 0.1, 0.1, 0.05, 0.05, 0.25, 0.15, 0.1, 0.15, 0.05, 0.05, 0.2, 0.35, 0.0, 0.05, 0.2], 67: [0.15, 0.1, 0.05, 0.0, 0.15, 0.1, 0.05, 0.0, 0.05, 0.3, 0.35, 0.1, 0.25, 0.2, 0.05, 0.1, 0.15, 0.1, 0.15, 0.35], 68: [0.05, 0.05, 0.05, 0.05, 0.0, 0.2, 0.15, 0.0, 0.05, 0.05, 0.1, 0.1, 0.25, 0.0, 0.0, 0.1, 0.25, 0.0, 0.0, 0.1], 69: [0.15, 0.1, 0.15, 0.3, 0.1, 0.1, 0.15, 0.05, 0.05, 0.1, 0.05, 0.1, 0.1, 0.0, 0.1, 0.2, 0.35, 0.0, 0.05, 0.1], 70: [0.1, 0.1, 0.0, 0.0, 0.15, 0.1, 0.05, 0.0, 0.05, 0.25, 0.4, 0.05, 0.3, 0.3, 0.05, 0.05, 0.15, 0.15, 0.2, 0.25], 71: [0.1, 0.2, 0.1, 0.1, 0.0, 0.35, 0.2, 0.05, 0.1, 0.05, 0.1, 0.2, 0.25, 0.05, 0.35, 0.1, 0.1, 0.05, 0.05, 0.05], 72: [0.1, 0.15, 0.15, 0.25, 0.05, 0.35, 0.2, 0.05, 0.15, 0.05, 0.05, 0.2, 0.1, 0.0, 0.1, 0.15, 0.25, 0.0, 0.05, 0.05], 73: [0.1, 0.1, 0.05, 0.0, 0.1, 0.05, 0.05, 0.0, 0.1, 0.25, 0.35, 0.05, 0.3, 0.35, 0.05, 0.05, 0.1, 0.15, 0.25, 0.2], 74: [0.1, 0.05, 0.0, 0.0, 0.1, 0.05, 0.05, 0.0, 0.0, 0.2, 0.3, 0.05, 0.2, 0.15, 0.3, 0.05, 0.1, 0.05, 0.1, 0.25], 75: [0.15, 0.1, 0.15, 0.1, 0.1, 0.1, 0.1, 0.05, 0.05, 0.1, 0.1, 0.1, 0.1, 0.05, 0.1, 0.2, 0.4, 0.0, 0.05, 0.15]}\n",
            "+---+---+---+---+---+---+---+---+---+----+----+----+----+----+----+----+----+----+----+----+----+----+----+----+----+----+----+----+----+----+----+----+----+----+----+----+----+----+----+----+----+----+----+----+----+----+----+----+----+----+----+----+----+----+----+----+----+----+----+----+----+----+----+----+----+----+----+----+----+----+----+----+----+----+----+\n",
            "| 1 | 2 | 3 | 4 | 5 | 6 | 7 | 8 | 9 | 10 | 11 | 12 | 13 | 14 | 15 | 16 | 17 | 18 | 19 | 20 | 21 | 22 | 23 | 24 | 25 | 26 | 27 | 28 | 29 | 30 | 31 | 32 | 33 | 34 | 35 | 36 | 37 | 38 | 39 | 40 | 41 | 42 | 43 | 44 | 45 | 46 | 47 | 48 | 49 | 50 | 51 | 52 | 53 | 54 | 55 | 56 | 57 | 58 | 59 | 60 | 61 | 62 | 63 | 64 | 65 | 66 | 67 | 68 | 69 | 70 | 71 | 72 | 73 | 74 | 75 |\n",
            "+---+---+---+---+---+---+---+---+---+----+----+----+----+----+----+----+----+----+----+----+----+----+----+----+----+----+----+----+----+----+----+----+----+----+----+----+----+----+----+----+----+----+----+----+----+----+----+----+----+----+----+----+----+----+----+----+----+----+----+----+----+----+----+----+----+----+----+----+----+----+----+----+----+----+----+\n",
            "+---+---+---+---+---+---+---+---+---+----+----+----+----+----+----+----+----+----+----+----+----+----+----+----+----+----+----+----+----+----+----+----+----+----+----+----+----+----+----+----+----+----+----+----+----+----+----+----+----+----+----+----+----+----+----+----+----+----+----+----+----+----+----+----+----+----+----+----+----+----+----+----+----+----+----+\n"
          ]
        }
      ],
      "source": [
        "def parse_pssm(file_path, query_len = 75):\n",
        "    pssm = {}\n",
        "    with open(file_path, 'r') as file:\n",
        "        lines = file.readlines()\n",
        "        for idl, line in enumerate(lines):\n",
        "            if idl <= 2 or idl > query_len + 2:\n",
        "                continue\n",
        "            else:\n",
        "                parts = line.split()\n",
        "                # Turning the position and the scores into int\n",
        "                position = int(parts[0])\n",
        "                scores = list(map(float, parts[2:22]))\n",
        "                # Normalizing the scores\n",
        "                minScore = abs(min(scores))\n",
        "                scores = [(score + minScore)/(20) for score in scores]\n",
        "                pssm[position] = scores\n",
        "    return pssm\n",
        "\n",
        "# Usage\n",
        "pssm_file = 'ms2l_psi_blast.pssm'\n",
        "pssm_data = parse_pssm(pssm_file)\n",
        "print(pssm_data)"
      ]
    },
    {
      "cell_type": "markdown",
      "metadata": {
        "id": "BGlErGWvMH_k"
      },
      "source": [
        "### 2.2. Creating the Functions"
      ]
    },
    {
      "cell_type": "markdown",
      "metadata": {
        "id": "al21q6WvMH_l"
      },
      "source": [
        "Here is the part of the sequence which does not overlap with neither the *cp* ORF nor the *rep* ORF:\n",
        "\n",
        "(18)`RRRPFKHEDY`(27)"
      ]
    },
    {
      "cell_type": "code",
      "execution_count": null,
      "metadata": {
        "id": "Dcmly9ytMH_l",
        "outputId": "e900f134-8211-41c5-e2cf-dbe767647082"
      },
      "outputs": [
        {
          "name": "stdout",
          "output_type": "stream",
          "text": [
            "RRRPFKHEDY\n"
          ]
        }
      ],
      "source": [
        "# Here the sequence that is going to be used in the algorithm is included\n",
        "seqRef = \"METRFPQQSQQTPASTNRRRPFKHEDYPCRRQQRSSTLYVLIFLAIFLSKFTNQLLLSLLEAVIRTVTTLQQLLT\"\n",
        "seq = seqRef[17:27]\n",
        "print(seq)"
      ]
    },
    {
      "cell_type": "code",
      "execution_count": null,
      "metadata": {
        "id": "0lwVoDyaOYKP"
      },
      "outputs": [],
      "source": [
        "# Defining a derived class \"proteinSeq\"\n",
        "class proteinSeq(chromosomes):\n",
        "    def __init__(self):\n",
        "        pass"
      ]
    },
    {
      "cell_type": "code",
      "execution_count": null,
      "metadata": {
        "id": "rw0YYYb8MH_m"
      },
      "outputs": [],
      "source": [
        "# Defining \"chromosomes\" for the genetic algorithm\n",
        "# Each is a in fact a solution\n",
        "# I have set the defaults according to the desired protein (i.e. MS2-L)\n",
        "\n",
        "import sys\n",
        "# This function takes in a parameter that\n",
        "def initial_population(initial_seq : str, setPop = 10, possible_values = \"\", pssm = None):\n",
        "    if pssm:\n",
        "        pass\n",
        "    else:\n",
        "        pass\n",
        "\n",
        "def mutation_rule_for_ms2l(gene : str | list[int] | list[str], current_range : tuple[int, int] = None, chosen_ranges : list[(int, int)] = None, pssm : dict = None):\n",
        "    if (chosen_ranges):\n",
        "        for seq_range in chosen_ranges:\n",
        "            segment_to_mutate = gene[seq_range[0]:seq_range[1] + 1]\n",
        "            if (pssm):\n",
        "                pass # TO_BE_COMPLETED\n",
        "    elif (current_range and pssm):\n",
        "        for ind, pos in zip(range(len(gene)), range(current_range[0], current_range[1] + 1)):\n",
        "            if type(gene) == str:\n",
        "                gene = list(gene)\n",
        "                gene[ind] = r.choices(\"ARNDCQEGHILKMFPSTWYV\", pssm[pos])\n",
        "\n",
        "def pssm_integration(gene : str | list[int], pssm_data : dict, current_range : tuple[int, int] = None):\n",
        "    if (current_range):\n",
        "        for ind, pos in zip(range(len(gene)), range(current_range[0], current_range[1] + 1)):\n",
        "            if type(gene) == str:\n",
        "                gene = list(gene)\n",
        "                gene[ind] = r.choices(\"ARNDCQEGHILKMFPSTWYV\", pssm_data[pos])\n",
        "\n",
        "async def model_integration(gene, default_dir = \"../HTGAA/prediction_directory/HW5/temp.fasta\"):\n",
        "    with open(default_dir, 'w') as f:\n",
        "        f.write(gene)\n",
        "    await sys('boltz predict \"../HTGAA/prediction_directory/HW5/temp.fasta\" --use_msa_server --recycling_steps 2 --sampling_steps 170 --accelerator gpu --out_dir \"../HTGAA/prediction_directory/HW5\"')\n",
        "\n",
        "\n",
        "def fitness_function(gene : str | list[int], mode = \"hybrid\", pssm = None):\n",
        "    if (mode == \"hybrid\"):\n",
        "        pass\n",
        "    elif (mode == \"pssm\"):\n",
        "        pass\n",
        "    elif (mode == \"full\"):\n",
        "        pass\n",
        "    else:\n",
        "        pass\n"
      ]
    },
    {
      "cell_type": "markdown",
      "metadata": {
        "id": "etRPtQjtPeI1"
      },
      "source": [
        "### 2.3. Running the algorithm\n",
        "\n",
        "The functions previously defined in section 2.2 are assigned to an instance of the `GeneticAlgorithm` class."
      ]
    },
    {
      "cell_type": "code",
      "execution_count": null,
      "metadata": {
        "id": "YvXJlEPiPvWq"
      },
      "outputs": [],
      "source": []
    }
  ],
  "metadata": {
    "colab": {
      "provenance": []
    },
    "kernelspec": {
      "display_name": "Python 3",
      "language": "python",
      "name": "python3"
    },
    "language_info": {
      "codemirror_mode": {
        "name": "ipython",
        "version": 3
      },
      "file_extension": ".py",
      "mimetype": "text/x-python",
      "name": "python",
      "nbconvert_exporter": "python",
      "pygments_lexer": "ipython3",
      "version": "3.12.1"
    }
  },
  "nbformat": 4,
  "nbformat_minor": 0
}
