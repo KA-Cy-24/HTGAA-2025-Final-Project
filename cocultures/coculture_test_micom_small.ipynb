{
 "cells": [
  {
   "cell_type": "markdown",
   "id": "ff06a71d",
   "metadata": {},
   "source": [
    "## Cocultures Using MICOM"
   ]
  },
  {
   "cell_type": "code",
   "execution_count": 1,
   "id": "e3289258",
   "metadata": {},
   "outputs": [],
   "source": [
    "import cobra\n",
    "import micom as m"
   ]
  },
  {
   "cell_type": "code",
   "execution_count": 2,
   "id": "50b32c80",
   "metadata": {},
   "outputs": [],
   "source": [
    "# Load models iteratively\n",
    "models_dictionary = {}\n",
    "strains = [\"Lactobacillus_brevis_ATCC_367\", \"Lactobacillus_plantarum_JDM1\",\n",
    "           \"Lactobacillus_plantarum_WCFS1\", \"Pseudomonas_aeruginosa_NCGM2_S1\",\"Pseudomonas_aeruginosa_PAO1\",\n",
    "           \"Staphylococcus_aureus_subsp_aureus_USA300_FPR3757\", \"Bacteroides_fragilis_NCTC_9343\"]\n",
    "strains_short = [\"l_brevis_atcc367\", \"l_plantarum_jdm1\", \"l_plantarum_wcfs1\", \"p_aeruginosa_ncgm2_s1\", \"p_aeruginosa_pao1\", \"s_aureus_usa300\", \"b_fragilis_nctc_9343\"]\n",
    "#shortened_names = [strain[0] + \"_\" + strain[strain.find(\"_\") : strain.find(\"_\") + 3] + strain.reverse().find()]\n",
    "# Define PATH constant prefix\n",
    "PATH = f\"../model_data/\"\n",
    "for index, strain in enumerate(strains):\n",
    "    models_dictionary[strains_short[index]] = PATH + strains[index] + \".xml\""
   ]
  },
  {
   "cell_type": "markdown",
   "id": "15596d30",
   "metadata": {},
   "source": [
    "#### MICOM `Community` Class Definition\n",
    "\n",
    "The description below has been copied from the `community.py` file holding\n",
    "the definition for `Community`. It serves as an immediate reference during \n",
    "my work.\n",
    "\n",
    "Create a new community object.\n",
    "\n",
    "`micom` builds a community from a taxonomy which may simply be a list\n",
    "of model files in its simplest form. Usually, the taxonomy will contain\n",
    "additional information such as annotations for the individuals (for\n",
    "instance phylum, organims or species) and abundances.\n",
    "\n",
    "The recommended way to build a micom model is to supply a\n",
    "quantification of taxa (called \"taxonomy\" here) which specifies the\n",
    "taxonomic ranks for a taxon and its abundance, and a model database\n",
    "for a specific rank (for instance \"genus\"). MICOM will match the\n",
    "ranks from your taxonomy to the model database and assemble the\n",
    "community models from that. You will also get information about the\n",
    "construction process by calling `Community.build_rxnrics`.\n",
    "\n",
    "The most customizable way only takes a single table where summarization\n",
    "and matching to the reference database has already occured. In this\n",
    "case you will also provide paths to model files for each taxon. This is\n",
    "the \"old\" way but may still be applicable if you want to use a custom\n",
    "database or want full control of matching your data to reference\n",
    "models.\n",
    "\n",
    "#### Notes\n",
    "\n",
    "`micom` will automatically add exchange fluxes and and a community\n",
    "objective maximizing the overall growth rate of the community.\n",
    "\n",
    "#### Pararxners\n",
    "\n",
    "**taxonomy** : *pandas.DataFrame*\n",
    "\n",
    "The taxonomy used for building the model. Must have at least the\n",
    "column \"id\" or a column specifying a taxonomic rank.\n",
    "If no model database is specified in the next argument\n",
    "it furthermore requires a column \"file\" which specifies a filepath\n",
    "for each model. Valid file extensions are \".pickle\", \".xml\",\n",
    "\".xml.gz\" and \".json\". If a model database is specified this must\n",
    "contain at least a column with the same name as the rank used in\n",
    "the model database. Thus, for a genus-level database you will need\n",
    "a column `genus`. Additional taxa ranks can also be specified and\n",
    "will be used to be more stringent in taxa matching.\n",
    "Finally, the taxonomy should contain a column `abundance`. It will\n",
    "be used to quantify each individual in the community. If absent,\n",
    "MICOM will assume all individuals are present in the same amount.\n",
    "\n",
    "**model_db** : *str*\n",
    "\n",
    "A pre-built model database. If ending in `.qza` must be a Qiime 2\n",
    "artifact of type `MetabolicModels[JSON]`. Can also be a folder,\n",
    "zip (must end in `.zip`) file or None if the taxonomy contains a\n",
    "column `file`.\n",
    "\n",
    "id : str, optional\n",
    "    The ID for the community. Should only contain letters and numbers,\n",
    "    otherwise it will be formatted as such.\n",
    "name : str, optional\n",
    "    The name for the community.\n",
    "rel_threshold : float < 1, optional\n",
    "    The relative abundance threshold that will be used. Describes the\n",
    "    smallest relative amount of an individual that will be considered\n",
    "    non-zero. All individuals with a smaller relative amount will be\n",
    "    omitted.\n",
    "solver : str, optional\n",
    "    Which solver to use. Will default to cplex if available which is\n",
    "    better suited for large problems.\n",
    "progress : bool, optional\n",
    "    Show a progress bar.\n",
    "max_exchange : positive float, optional\n",
    "    During model constructions exchange reactions are duplicated into\n",
    "    internal and external exchange reactions. This specifies the new\n",
    "    import flux bound for the *internal* exchange reaction. Import\n",
    "    rates for the exchanges between the medium and outside are still\n",
    "    mantained.\n",
    "**mass** : *positive float*, optional\n",
    "\n",
    "The total mass of the community in gDW. Used to adjust import\n",
    "fluxes which are assumed to be given as mmol/gDW*h for the\n",
    "entire community. As a consequence all import fluxes will be\n",
    "divided by that number.\n",
    "\n",
    "#### Attributes\n",
    "\n",
    "**taxa** : *list*\n",
    "\n",
    "A list of taxa IDs in the community.\n"
   ]
  },
  {
   "cell_type": "markdown",
   "id": "d3d2a148",
   "metadata": {},
   "source": [
    "### Utility Functions"
   ]
  },
  {
   "cell_type": "markdown",
   "id": "cd2c4e13",
   "metadata": {},
   "source": [
    "#### Taxonomy Dataset Creator"
   ]
  },
  {
   "cell_type": "code",
   "execution_count": 3,
   "id": "777b7318",
   "metadata": {},
   "outputs": [],
   "source": [
    "# Defining a function for creating custom taxonomy files complete with the required file address\n",
    "import pandas as pd\n",
    "import numpy as np\n",
    "import cobra\n",
    "\n",
    "def create_tax_dataset(models : list[cobra.Model] | tuple[cobra.Model], paths : list | tuple, abundance : list | np.ndarray, include_sample_id = False, samples = 1, scatter = 1) -> pd.DataFrame:\n",
    "    # Defining the dataframe with the necessary columns\n",
    "    output_dict = {'id':[], 'genus':[], 'species':[], 'reactions':[], 'metabolites':[], 'file':[], 'sample_id':[], 'abundance':[]}\n",
    "    index_like = []\n",
    "    for i in range(samples):\n",
    "        sample_id = i\n",
    "        for j, model in enumerate(models):\n",
    "            index_like.append(j)\n",
    "            output_dict['id'].append(model.id + '_' + str(j))\n",
    "            output_dict['genus'].append(model.name.split(' ')[0])\n",
    "            output_dict['species'].append(model.name)\n",
    "            output_dict['reactions'].append(len(model.reactions))\n",
    "            output_dict['metabolites'].append(len(model.metabolites))\n",
    "            output_dict['file'].append(paths[j])\n",
    "            output_dict['sample_id'].append('sample_' + str(sample_id + 1))\n",
    "            if (samples > 1 and sample_id > 0):\n",
    "                output_dict['abundance'].append(int(np.random.normal(loc=abundance[j], scale=scatter)))\n",
    "            else:\n",
    "                output_dict['abundance'].append(abundance[j])\n",
    "    output = pd.DataFrame(output_dict, columns=output_dict.keys(), index=index_like)\n",
    "    if not (include_sample_id):\n",
    "        output.drop(columns=['sample_id'], axis=1, inplace=True)\n",
    "    return output"
   ]
  },
  {
   "cell_type": "markdown",
   "id": "da6b9081",
   "metadata": {},
   "source": [
    "#### Manifest Creator\n",
    "The manifest file needs to have the following columns file, kingdom, phylum, class, order, family, genus, species."
   ]
  },
  {
   "cell_type": "code",
   "execution_count": 4,
   "id": "eefcbc80",
   "metadata": {},
   "outputs": [],
   "source": [
    "# Defining a function for creating custom manifest files for the construction of model databases\n",
    "import pandas as pd\n",
    "import numpy as np\n",
    "import cobra\n",
    "\n",
    "def create_manifest(models : list[cobra.Model] | tuple[cobra.Model], paths : list | tuple, abundance : list | np.ndarray, include_sample_id = False, samples = 1) -> pd.DataFrame:\n",
    "    # Defining the dataframe with the necessary columns\n",
    "    output_dict = {'id':[], 'genus':[], 'species':[], 'reactions':[], 'metabolites':[], 'file':[], 'sample_id':[], 'abundance':[]}\n",
    "    for i in range(samples):\n",
    "        sample_id = i\n",
    "        for j, model in enumerate(models):\n",
    "            output_dict['id'].append(model.id + '_' + str(j))\n",
    "            output_dict['genus'].append(model.name.split(' ')[0])\n",
    "            output_dict['species'].append(model.name)\n",
    "            output_dict['reactions'].append(len(model.reactions))\n",
    "            output_dict['metabolites'].append(len(model.metabolites))\n",
    "            output_dict['file'].append(paths[j])\n",
    "            output_dict['sample_id'].append('sample_' + str(i + 1))\n",
    "            output_dict['abundance'].append(abundance[j])\n",
    "    output = pd.DataFrame(output_dict, columns=output_dict.keys())\n",
    "    if not (include_sample_id):\n",
    "        output.drop(columns=['sample_id'], axis=1, inplace=True)\n",
    "    return output"
   ]
  },
  {
   "cell_type": "markdown",
   "id": "74c4ebcd",
   "metadata": {},
   "source": [
    "#### Coculture Partitioner"
   ]
  },
  {
   "cell_type": "code",
   "execution_count": 5,
   "id": "749be0fb",
   "metadata": {},
   "outputs": [],
   "source": [
    "# Defining a function for creating a subset from a larger set\n",
    "import itertools\n",
    "import cobra\n",
    "\n",
    "def sort_into_subsets(models : list[cobra.Model] | tuple[cobra.Model], paths : list[str] | tuple[str], subset_size = 2):\n",
    "    if not (len(models) == len(paths)):\n",
    "        raise Exception('The number of models provided is not suitable for partition or is inconsistent with'\n",
    "                        'the number of paths provided.')\n",
    "    else:\n",
    "        coculture_indices = itertools.combinations(range(len(models)), r = subset_size)\n",
    "        coculture_subset = []\n",
    "        path_subset = []\n",
    "        for i in coculture_indices:\n",
    "            culture = tuple(models[j] for j in i)\n",
    "            path = tuple(paths[j] for j in i)\n",
    "            coculture_subset.append(culture)\n",
    "            path_subset.append(path)\n",
    "        return coculture_subset, path_subset"
   ]
  },
  {
   "cell_type": "markdown",
   "id": "6baf0391",
   "metadata": {},
   "source": [
    "#### Search Functions for Metabolites and Reactions"
   ]
  },
  {
   "cell_type": "code",
   "execution_count": 6,
   "id": "779354b6",
   "metadata": {},
   "outputs": [],
   "source": [
    "# Defining simple utility functions for searching the name of metabolites and reactions\n",
    "def find_metabolites(model : cobra.Model, metabolite : str, id_search = False):\n",
    "    for met in model.metabolites:\n",
    "        if (id_search):\n",
    "            if (metabolite in met.id):\n",
    "                print('Name %s' % met.name)\n",
    "                print('ID: %s' % met.id)\n",
    "        else:\n",
    "            if (metabolite in met.name):\n",
    "                print('Name %s' % met.name)\n",
    "                print('ID: %s' % met.id)\n",
    "\n",
    "def find_reactions(model : cobra.Model, reaction : str, id_search = False):\n",
    "    for rxn in model.reactions:\n",
    "        if (id_search):\n",
    "            if (reaction in rxn.id):\n",
    "                print('Name %s' % rxn.name)\n",
    "                print('ID: %s' % rxn.id)\n",
    "        else:\n",
    "            if (reaction in rxn.name):\n",
    "                print('Name %s' % rxn.name)\n",
    "                print('ID: %s' % rxn.id)\n",
    "\n",
    "def exclude_reactions(model : cobra.Model | m.Community, reactions_to_exclude : list[str], exchanges_only = True):\n",
    "    list_of_reactions = []\n",
    "    if exchanges_only:\n",
    "        for rxn in model.exchanges:\n",
    "            if (rxn.id not in reactions_to_exclude):\n",
    "                list_of_reactions.append(rxn)\n",
    "    else:\n",
    "        for rxn in model.reactions:\n",
    "            if (rxn.id not in reactions_to_exclude):\n",
    "                list_of_reactions.append(rxn)\n",
    "    return list_of_reactions"
   ]
  },
  {
   "cell_type": "markdown",
   "id": "5004c6ef",
   "metadata": {},
   "source": [
    "#### Weighting and Medium Formulation"
   ]
  },
  {
   "cell_type": "code",
   "execution_count": 7,
   "id": "01722b11",
   "metadata": {},
   "outputs": [],
   "source": [
    "# Creating a utility function for adjusting weights for a target metabolite\n",
    "def weight_for_glc(modelMetabolites, target_met, target_weight, default_weight):\n",
    "    weights = []\n",
    "    for met in modelMetabolites:\n",
    "        if (met.id == target_met):\n",
    "            weights.append(target_weight)\n",
    "        else:\n",
    "            weights.append(default_weight)\n",
    "    return weights\n",
    "\n",
    "# Declaring a function for rapidly constructing a custom medium\n",
    "def custom_medium(modelReactions, target_rxns : list, target_fluxes : list, default_flux : float, lenient = False):\n",
    "    new_medium = {}\n",
    "    for rxn in modelReactions:\n",
    "        if (rxn.id in target_rxns or rxn.name in target_rxns):\n",
    "            new_medium[rxn.id] = target_fluxes[target_rxns.index(rxn.id)]\n",
    "        else:\n",
    "            new_medium[rxn.id] = default_flux\n",
    "    #for ind, rxn in enumerate(modelReactions):\n",
    "        #if (lenient):\n",
    "        #    if (target_mets[ind] in rxn.id) or (target_mets[ind] in rxn.name):\n",
    "        #        new_medium[rxn] = target_fluxes[ind]\n",
    "        #    else:\n",
    "        #        new_medium[rxn] = default_flux\n",
    "        #else:\n",
    "        #    if (target_mets[ind] == rxn.id) or (target_mets[ind] == rxn.name):\n",
    "        #        new_medium[rxn] = target_fluxes[ind]\n",
    "        #    else:\n",
    "        #        new_medium[rxn] = default_flux\n",
    "    return new_medium\n",
    "\n",
    "def minimal_dfu_medium(pathogenCommunity : m.Community, additions : dict, penalized_reactions : list[cobra.Reaction] | None = None):\n",
    "    # Running the simulation for the given community\n",
    "    solution = pathogenCommunity.optimize(fluxes=False, pfba=True)\n",
    "    max_growth = solution.growth_rate\n",
    "    # Excluding desirable reactions (the rest will be penalized in the medium formulation)\n",
    "    # Can implicitly deduce the favorable reactions by looking at the additions and marking them as \"favorable\"\n",
    "    favorable_rxn = []\n",
    "    for rxn in additions.keys():\n",
    "        favorable_rxn.append(rxn)\n",
    "    penalized_reactions = exclude_reactions(pathogenCommunity, favorable_rxn)\n",
    "    minimalMed = m.media.minimal_medium(pathogenCommunity, max_growth*0.7, min_growth=max_growth * 0.7, exchanges=penalized_reactions)\n",
    "    # Updating the minimal medium with additions/updates\n",
    "    minimalMed.update(additions)\n",
    "    return minimalMed"
   ]
  },
  {
   "cell_type": "markdown",
   "id": "ef5ab56f",
   "metadata": {},
   "source": [
    "#### Load DFU Medium CSV"
   ]
  },
  {
   "cell_type": "code",
   "execution_count": 8,
   "id": "cbaa9bae",
   "metadata": {},
   "outputs": [],
   "source": [
    "# Optional: Loading the previously-defined DFU medium to simulate under physiological conditions\n",
    "import pandas as pd\n",
    "\n",
    "def load_medium(file_path = '../env/dfu_medium.csv', replace_suffix = True):\n",
    "    dfu_df = pd.read_csv(file_path)\n",
    "    dfu_dict = dfu_df.to_dict(orient='list')\n",
    "    for e, f in zip(dfu_dict['exchange'], dfu_dict['flux']):\n",
    "        if replace_suffix:\n",
    "            e = e.replace('_m', '(e)')\n",
    "        dfu_dict[e] = f\n",
    "    dfu_dict.pop('exchange')\n",
    "    dfu_dict.pop('flux')\n",
    "    return dfu_dict"
   ]
  },
  {
   "attachments": {
    "image.png": {
     "image/png": "[encoded data removed]"
    }
   },
   "cell_type": "markdown",
   "id": "6d468308",
   "metadata": {},
   "source": [
    "### Medium Formulation\n",
    "\n",
    "Here, by using the minimal medium as a heuristic and combining it with the data from the work of [Gould and Mahmoudi, 2024](https://doi.org/10.1021/acsptsci.4c00418), I formulated a medium for use in all of the cocultures and in subsequent runs of the strain design, the host model, and the final model.\n",
    "\n",
    "![image.png](attachment:image.png)\n",
    "\n",
    "*Figure 1*. Box plot illustrating the percentages of the 16 key detected small molecules, each contributing over 3% in at least one of the exudates across all 25 sampled human cases. Each dotted line represents the percentage for an individual human exudate."
   ]
  },
  {
   "cell_type": "code",
   "execution_count": null,
   "id": "7438f7e9",
   "metadata": {},
   "outputs": [
    {
     "data": {
      "application/vnd.jupyter.widget-view+json": {
       "model_id": "7d5cc874ad74494daa65bd7ce1fbf2c9",
       "version_major": 2,
       "version_minor": 0
      },
      "text/plain": [
       "Output()"
      ]
     },
     "metadata": {},
     "output_type": "display_data"
    },
    {
     "data": {
      "text/html": [
       "<pre style=\"white-space:pre;overflow-x:auto;line-height:normal;font-family:Menlo,'DejaVu Sans Mono',consolas,'Courier New',monospace\"></pre>\n"
      ],
      "text/plain": []
     },
     "metadata": {},
     "output_type": "display_data"
    },
    {
     "data": {
      "text/html": [
       "<pre style=\"white-space:pre;overflow-x:auto;line-height:normal;font-family:Menlo,'DejaVu Sans Mono',consolas,'Courier New',monospace\">\n",
       "</pre>\n"
      ],
      "text/plain": [
       "\n"
      ]
     },
     "metadata": {},
     "output_type": "display_data"
    }
   ],
   "source": [
    "# Loading libraries\n",
    "import cobra\n",
    "import micom as m\n",
    "import pandas as pd\n",
    "\n",
    "# Loading models for pathogenic species\n",
    "s_aureus = cobra.io.read_sbml_model(models_dictionary['s_aureus_usa300'])\n",
    "p_aeruginosa_pao1 = cobra.io.read_sbml_model(models_dictionary['p_aeruginosa_pao1'])\n",
    "b_fragilis = cobra.io.read_sbml_model(models_dictionary['b_fragilis_nctc_9343'])\n",
    "# Constructing a community\n",
    "pathogenTax = create_tax_dataset([s_aureus, p_aeruginosa_pao1, b_fragilis], [models_dictionary['s_aureus_usa300'], models_dictionary['p_aeruginosa_pao1'], models_dictionary['b_fragilis_nctc_9343']], abundance=[250,250,200])\n",
    "complete_pathogen_community = m.Community(pathogenTax)"
   ]
  },
  {
   "cell_type": "code",
   "execution_count": 12,
   "id": "08f646ee",
   "metadata": {},
   "outputs": [],
   "source": [
    "# Example DFU exudate medium dictionary for MICOM\n",
    "# Units are assumed to be in mM (or converted uptake fluxes).\n",
    "dfu_medium = {\n",
    "    \"EX_glc_D_m\": 10.0,   # High glucose (e.g., 10 mM)\n",
    "    \"EX_o2_m\": 0.2,        # Low oxygen (e.g., 0.2 mM)\n",
    "    \"EX_lac_L_m\": 2.5,    # Moderate lactate (e.g., 2.5 mM)\n",
    "    \"EX_arg_L_m\": 0.1,    # Low arginine (e.g., 0.1 mM)\n",
    "    \"EX_crn_m\" : 3.5,       # Moderate carnitine\n",
    "    \"EX_glyb_m\": 13.0,      # High betaine\n",
    "    \"EX_chol_m\": 12.0,      # High choline\n",
    "    # Optionally, add additional metabolites as needed:\n",
    "    # \"EX_nh4_e\": 5.0,     # Example: moderate ammonium concentration\n",
    "    # \"EX_glc__D_e\": 10.0,  # Maintain other nutrients at their typical DFU levels\n",
    "}"
   ]
  },
  {
   "cell_type": "code",
   "execution_count": 13,
   "id": "85d24bf1",
   "metadata": {},
   "outputs": [],
   "source": [
    "final_culture_medium = minimal_dfu_medium(complete_pathogen_community, dfu_medium)"
   ]
  },
  {
   "cell_type": "code",
   "execution_count": 15,
   "id": "b604dacc",
   "metadata": {},
   "outputs": [
    {
     "data": {
      "text/html": [
       "<div>\n",
       "<style scoped>\n",
       "    .dataframe tbody tr th:only-of-type {\n",
       "        vertical-align: middle;\n",
       "    }\n",
       "\n",
       "    .dataframe tbody tr th {\n",
       "        vertical-align: top;\n",
       "    }\n",
       "\n",
       "    .dataframe thead th {\n",
       "        text-align: right;\n",
       "    }\n",
       "</style>\n",
       "<table border=\"1\" class=\"dataframe\">\n",
       "  <thead>\n",
       "    <tr style=\"text-align: right;\">\n",
       "      <th></th>\n",
       "      <th>0</th>\n",
       "    </tr>\n",
       "  </thead>\n",
       "  <tbody>\n",
       "    <tr>\n",
       "      <th>EX_12dgr180_m</th>\n",
       "      <td>0.428026</td>\n",
       "    </tr>\n",
       "    <tr>\n",
       "      <th>EX_26dap_M_m</th>\n",
       "      <td>3.351355</td>\n",
       "    </tr>\n",
       "    <tr>\n",
       "      <th>EX_4abz_m</th>\n",
       "      <td>0.245237</td>\n",
       "    </tr>\n",
       "    <tr>\n",
       "      <th>EX_adocbl_m</th>\n",
       "      <td>45.464587</td>\n",
       "    </tr>\n",
       "    <tr>\n",
       "      <th>EX_alagln_m</th>\n",
       "      <td>33.333333</td>\n",
       "    </tr>\n",
       "    <tr>\n",
       "      <th>...</th>\n",
       "      <td>...</td>\n",
       "    </tr>\n",
       "    <tr>\n",
       "      <th>EX_amylopect900_m</th>\n",
       "      <td>0.235874</td>\n",
       "    </tr>\n",
       "    <tr>\n",
       "      <th>EX_amylose300_m</th>\n",
       "      <td>0.333333</td>\n",
       "    </tr>\n",
       "    <tr>\n",
       "      <th>EX_dsT_antigen_m</th>\n",
       "      <td>16.666667</td>\n",
       "    </tr>\n",
       "    <tr>\n",
       "      <th>EX_eltr_m3_m</th>\n",
       "      <td>0.015941</td>\n",
       "    </tr>\n",
       "    <tr>\n",
       "      <th>EX_gncore2_m</th>\n",
       "      <td>22.491344</td>\n",
       "    </tr>\n",
       "  </tbody>\n",
       "</table>\n",
       "<p>67 rows × 1 columns</p>\n",
       "</div>"
      ],
      "text/plain": [
       "                           0\n",
       "EX_12dgr180_m       0.428026\n",
       "EX_26dap_M_m        3.351355\n",
       "EX_4abz_m           0.245237\n",
       "EX_adocbl_m        45.464587\n",
       "EX_alagln_m        33.333333\n",
       "...                      ...\n",
       "EX_amylopect900_m   0.235874\n",
       "EX_amylose300_m     0.333333\n",
       "EX_dsT_antigen_m   16.666667\n",
       "EX_eltr_m3_m        0.015941\n",
       "EX_gncore2_m       22.491344\n",
       "\n",
       "[67 rows x 1 columns]"
      ]
     },
     "execution_count": 15,
     "metadata": {},
     "output_type": "execute_result"
    }
   ],
   "source": [
    "# Displaying the final culture medium\n",
    "MEDIUM = pd.DataFrame(final_culture_medium)\n",
    "MEDIUM\n",
    "# Saving the medium to a CSV\n",
    "#MEDIUM.to_csv('../env/dfu_medium.csv')"
   ]
  },
  {
   "cell_type": "markdown",
   "id": "4fbe29fc",
   "metadata": {},
   "source": [
    "### Probiotic Cocultures"
   ]
  },
  {
   "cell_type": "code",
   "execution_count": 9,
   "id": "7c47754d",
   "metadata": {},
   "outputs": [],
   "source": [
    "# Loading models for probiotic species\n",
    "l_brevis = cobra.io.read_sbml_model(models_dictionary['l_brevis_atcc367'])\n",
    "l_plantarum_jdm1 = cobra.io.read_sbml_model(models_dictionary['l_plantarum_jdm1'])\n",
    "l_plantarum_wcfs1 = cobra.io.read_sbml_model(models_dictionary['l_plantarum_wcfs1'])"
   ]
  },
  {
   "cell_type": "code",
   "execution_count": 97,
   "id": "268313b7",
   "metadata": {},
   "outputs": [],
   "source": [
    "# Creating communities consisting of pairs of them\n",
    "coculture_subsets, path_subset = sort_into_subsets([l_brevis, l_plantarum_jdm1, l_plantarum_wcfs1],\n",
    "                                      [models_dictionary['l_brevis_atcc367'], models_dictionary['l_plantarum_jdm1'],\n",
    "                                       models_dictionary['l_plantarum_wcfs1']], 2) # Setting the number of strains in each sample to 2 (Pairwise cocultures)\n",
    "# Setting up taxonomies for each of the subsets\n",
    "taxonomy_datasets = []\n",
    "#db_datasets = []\n",
    "for culture, path in zip(coculture_subsets, path_subset):\n",
    "    tax = create_tax_dataset(culture, path, [100, 100], include_sample_id = False, samples=1, scatter=30)\n",
    "    taxonomy_datasets.append(tax)\n",
    "    #taxonomy_datasets.append(tax.drop(labels=['sample_id', 'abundance'], axis=1).iloc[:2])\n",
    "    #db_datasets.append(tax.drop(['file'], axis=1))"
   ]
  },
  {
   "cell_type": "code",
   "execution_count": 99,
   "id": "050f70ef",
   "metadata": {},
   "outputs": [],
   "source": [
    "# Constructing communities for each of the taxnomomic datasets\n",
    "import numpy as np\n",
    "import pandas as pd\n",
    "\n",
    "probiotic_communities = np.empty(len(taxonomy_datasets), dtype=pd.DataFrame)\n",
    "for ind, tax in enumerate(taxonomy_datasets):\n",
    "    probiotic_communities[ind] = m.Community(tax, progress=False)"
   ]
  },
  {
   "cell_type": "code",
   "execution_count": 100,
   "id": "de7dcd59",
   "metadata": {},
   "outputs": [],
   "source": [
    "# Optimizing each of the communities generated\n",
    "solutions = []\n",
    "for comm in probiotic_communities:\n",
    "    solutions.append(comm.optimize(fluxes=True))"
   ]
  },
  {
   "cell_type": "markdown",
   "id": "3be5a383",
   "metadata": {},
   "source": [
    "Here it must be noted that, for a probiotic solution to be worthwhile, its community must have the maximal growth rate possible. Accordingly, from here on, I will be choosing the two communities with the highest growth *maximal* rates (i.e. when they are optimized) and later assessing them when in contact with pathogens. "
   ]
  },
  {
   "cell_type": "code",
   "execution_count": 101,
   "id": "7445db24",
   "metadata": {},
   "outputs": [],
   "source": [
    "from micom.viz import plot_association, plot_exchanges_per_sample, plot_growth\n",
    "growth = [m.workflows.GrowthResults.from_solution(solutions[i], probiotic_communities[i]) for i in range(len(solutions))]\n",
    "for g in growth:\n",
    "    plot_growth(g)"
   ]
  },
  {
   "cell_type": "code",
   "execution_count": null,
   "id": "bee2792c",
   "metadata": {},
   "outputs": [],
   "source": [
    "print('L. brevis ATCC 367')\n",
    "find_reactions(l_brevis, 'Pyruvate', True)\n",
    "print('L. plantarum JDM1')\n",
    "find_reactions(l_plantarum_jdm1, 'glucose')\n",
    "print('L. plantarum WCFS1')\n",
    "find_reactions(l_plantarum_wcfs1, 'glucose')"
   ]
  },
  {
   "cell_type": "code",
   "execution_count": 109,
   "id": "b977071b",
   "metadata": {},
   "outputs": [
    {
     "data": {
      "application/vnd.jupyter.widget-view+json": {
       "model_id": "e250da4cc0d248c2950e68d5e4358510",
       "version_major": 2,
       "version_minor": 0
      },
      "text/plain": [
       "Output()"
      ]
     },
     "metadata": {},
     "output_type": "display_data"
    },
    {
     "data": {
      "text/html": [
       "<pre style=\"white-space:pre;overflow-x:auto;line-height:normal;font-family:Menlo,'DejaVu Sans Mono',consolas,'Courier New',monospace\"></pre>\n"
      ],
      "text/plain": []
     },
     "metadata": {},
     "output_type": "display_data"
    },
    {
     "data": {
      "text/html": [
       "<pre style=\"white-space:pre;overflow-x:auto;line-height:normal;font-family:Menlo,'DejaVu Sans Mono',consolas,'Courier New',monospace\">\n",
       "</pre>\n"
      ],
      "text/plain": [
       "\n"
      ]
     },
     "metadata": {},
     "output_type": "display_data"
    },
    {
     "data": {
      "application/vnd.jupyter.widget-view+json": {
       "model_id": "a130145ec8c048d3b571f8b6b40d4147",
       "version_major": 2,
       "version_minor": 0
      },
      "text/plain": [
       "Output()"
      ]
     },
     "metadata": {},
     "output_type": "display_data"
    },
    {
     "data": {
      "text/html": [
       "<pre style=\"white-space:pre;overflow-x:auto;line-height:normal;font-family:Menlo,'DejaVu Sans Mono',consolas,'Courier New',monospace\"></pre>\n"
      ],
      "text/plain": []
     },
     "metadata": {},
     "output_type": "display_data"
    },
    {
     "data": {
      "text/html": [
       "<pre style=\"white-space:pre;overflow-x:auto;line-height:normal;font-family:Menlo,'DejaVu Sans Mono',consolas,'Courier New',monospace\">\n",
       "</pre>\n"
      ],
      "text/plain": [
       "\n"
      ]
     },
     "metadata": {},
     "output_type": "display_data"
    },
    {
     "data": {
      "application/vnd.jupyter.widget-view+json": {
       "model_id": "30b10d3f64be4857ab871aff5dc619ce",
       "version_major": 2,
       "version_minor": 0
      },
      "text/plain": [
       "Output()"
      ]
     },
     "metadata": {},
     "output_type": "display_data"
    },
    {
     "data": {
      "text/html": [
       "<pre style=\"white-space:pre;overflow-x:auto;line-height:normal;font-family:Menlo,'DejaVu Sans Mono',consolas,'Courier New',monospace\"></pre>\n"
      ],
      "text/plain": []
     },
     "metadata": {},
     "output_type": "display_data"
    },
    {
     "data": {
      "text/html": [
       "<pre style=\"white-space:pre;overflow-x:auto;line-height:normal;font-family:Menlo,'DejaVu Sans Mono',consolas,'Courier New',monospace\">\n",
       "</pre>\n"
      ],
      "text/plain": [
       "\n"
      ]
     },
     "metadata": {},
     "output_type": "display_data"
    }
   ],
   "source": [
    "elasticities = []\n",
    "knockout_analyses = []\n",
    "interactions = []\n",
    "mes = []\n",
    "for ind, comm in enumerate(probiotic_communities):\n",
    "    knockout_analyses.append(comm.knockout_taxa(progress=True, diag=False))\n",
    "    # Converting the current solution to a GrowthResults\n",
    "    gro = m.workflows.GrowthResults.from_solution(solutions[ind], comm)\n",
    "    #mes = m.interaction.MES(gro, 0.0001)\n",
    "    interactions.append(m.interaction.interactions(gro, taxa=comm.taxa, progress=False))"
   ]
  },
  {
   "cell_type": "code",
   "execution_count": 110,
   "id": "294cf5bc",
   "metadata": {},
   "outputs": [
    {
     "data": {
      "image/png": "[encoded data removed]",
      "text/plain": [
       "<Figure size 640x480 with 2 Axes>"
      ]
     },
     "metadata": {},
     "output_type": "display_data"
    }
   ],
   "source": [
    "# Saving the results\n",
    "import seaborn as sns\n",
    "final_ko_results = pd.concat(knockout_analyses)\n",
    "sns.heatmap(final_ko_results)\n",
    "final_ko_results.to_csv('probiotic_coculture_taxa_ko.csv')"
   ]
  },
  {
   "cell_type": "markdown",
   "id": "ad8ca925",
   "metadata": {},
   "source": [
    "### Pathogenic Cocultures"
   ]
  },
  {
   "cell_type": "code",
   "execution_count": 10,
   "id": "9b6921de",
   "metadata": {},
   "outputs": [],
   "source": [
    "# Loading models for probiotic species\n",
    "s_aureus = cobra.io.read_sbml_model(models_dictionary['s_aureus_usa300'])\n",
    "p_aeruginosa_pao1 = cobra.io.read_sbml_model(models_dictionary['p_aeruginosa_pao1'])\n",
    "#p_aeruginosa_ncgm2_s1 = cobra.io.read_sbml_model(models_dictionary['p_aeruginosa_ncgm2_s1'])\n",
    "b_fragilis = cobra.io.read_sbml_model(models_dictionary['b_fragilis_nctc_9343'])"
   ]
  },
  {
   "cell_type": "code",
   "execution_count": 11,
   "id": "e04ec162",
   "metadata": {},
   "outputs": [],
   "source": [
    "# Creating communities consisting of pairs of them\n",
    "coculture_subsets, path_subset = sort_into_subsets([s_aureus, p_aeruginosa_pao1, b_fragilis],\n",
    "                                      [models_dictionary['s_aureus_usa300'], models_dictionary['p_aeruginosa_pao1'],\n",
    "                                       models_dictionary['b_fragilis_nctc_9343']], 2)\n",
    "# Setting up taxonomies for each of the subsets\n",
    "taxonomy_datasets = []\n",
    "for culture, path in zip(coculture_subsets, path_subset):\n",
    "    taxonomy_datasets.append(create_tax_dataset(culture, path, [100, 100]))"
   ]
  },
  {
   "cell_type": "markdown",
   "id": "76ffeb26",
   "metadata": {},
   "source": [
    "Before updating the coculture media to resemble that of the DFU, the pathogen communities (which dictate how the medium should look like), will be run once while their community growth rates are compared and averaged. This will help in formulating the medium. This part of the process may be moved to the `coculture_benchmark` notebook in order to improve readability and intrepability of the workflow."
   ]
  },
  {
   "cell_type": "code",
   "execution_count": 12,
   "id": "bf03fe53",
   "metadata": {},
   "outputs": [],
   "source": [
    "# Loading the DFU medium\n",
    "dfu_medium = load_medium(replace_suffix=False)"
   ]
  },
  {
   "cell_type": "code",
   "execution_count": 13,
   "id": "fa0f11a4",
   "metadata": {},
   "outputs": [
    {
     "data": {
      "application/vnd.jupyter.widget-view+json": {
       "model_id": "d2b6ad52eab24520a282d32a0ba2fa57",
       "version_major": 2,
       "version_minor": 0
      },
      "text/plain": [
       "Output()"
      ]
     },
     "metadata": {},
     "output_type": "display_data"
    },
    {
     "data": {
      "text/html": [
       "<pre style=\"white-space:pre;overflow-x:auto;line-height:normal;font-family:Menlo,'DejaVu Sans Mono',consolas,'Courier New',monospace\"></pre>\n"
      ],
      "text/plain": []
     },
     "metadata": {},
     "output_type": "display_data"
    },
    {
     "data": {
      "text/html": [
       "<pre style=\"white-space:pre;overflow-x:auto;line-height:normal;font-family:Menlo,'DejaVu Sans Mono',consolas,'Courier New',monospace\">\n",
       "</pre>\n"
      ],
      "text/plain": [
       "\n"
      ]
     },
     "metadata": {},
     "output_type": "display_data"
    },
    {
     "data": {
      "application/vnd.jupyter.widget-view+json": {
       "model_id": "e102adc0890946ddbc8060292fb771d4",
       "version_major": 2,
       "version_minor": 0
      },
      "text/plain": [
       "Output()"
      ]
     },
     "metadata": {},
     "output_type": "display_data"
    },
    {
     "data": {
      "text/html": [
       "<pre style=\"white-space:pre;overflow-x:auto;line-height:normal;font-family:Menlo,'DejaVu Sans Mono',consolas,'Courier New',monospace\"></pre>\n"
      ],
      "text/plain": []
     },
     "metadata": {},
     "output_type": "display_data"
    },
    {
     "data": {
      "text/html": [
       "<pre style=\"white-space:pre;overflow-x:auto;line-height:normal;font-family:Menlo,'DejaVu Sans Mono',consolas,'Courier New',monospace\">\n",
       "</pre>\n"
      ],
      "text/plain": [
       "\n"
      ]
     },
     "metadata": {},
     "output_type": "display_data"
    },
    {
     "data": {
      "application/vnd.jupyter.widget-view+json": {
       "model_id": "bf7f8de3c2374f99968c011b6af13b65",
       "version_major": 2,
       "version_minor": 0
      },
      "text/plain": [
       "Output()"
      ]
     },
     "metadata": {},
     "output_type": "display_data"
    },
    {
     "data": {
      "text/html": [
       "<pre style=\"white-space:pre;overflow-x:auto;line-height:normal;font-family:Menlo,'DejaVu Sans Mono',consolas,'Courier New',monospace\"></pre>\n"
      ],
      "text/plain": []
     },
     "metadata": {},
     "output_type": "display_data"
    },
    {
     "data": {
      "text/html": [
       "<pre style=\"white-space:pre;overflow-x:auto;line-height:normal;font-family:Menlo,'DejaVu Sans Mono',consolas,'Courier New',monospace\">\n",
       "</pre>\n"
      ],
      "text/plain": [
       "\n"
      ]
     },
     "metadata": {},
     "output_type": "display_data"
    }
   ],
   "source": [
    "# Constructing default communities for each of the taxnomomic datasets\n",
    "import numpy as np\n",
    "import pandas as pd\n",
    "\n",
    "pathogen_communities = np.empty(len(taxonomy_datasets), dtype=pd.DataFrame)\n",
    "for ind, tax in enumerate(taxonomy_datasets):\n",
    "    pathogen_communities[ind] = m.Community(tax)"
   ]
  },
  {
   "cell_type": "code",
   "execution_count": 14,
   "id": "06586d83",
   "metadata": {},
   "outputs": [],
   "source": [
    "# Optimizing each of the communities generated\n",
    "solutions = []\n",
    "for comm in pathogen_communities:\n",
    "    comm.medium = dfu_medium\n",
    "    solutions.append(comm.optimize(fluxes=True))"
   ]
  },
  {
   "cell_type": "code",
   "execution_count": 15,
   "id": "321a101c",
   "metadata": {},
   "outputs": [
    {
     "name": "stdout",
     "output_type": "stream",
     "text": [
      "[9.868669773508518, 23.035957825602594, 12.489656667721418]\n"
     ]
    },
    {
     "data": {
      "text/html": [
       "<strong>community growth:</strong> 12.490<br><strong>status:</strong> optimal<br><strong>taxa:</strong><div>\n",
       "<style scoped>\n",
       "    .dataframe tbody tr th:only-of-type {\n",
       "        vertical-align: middle;\n",
       "    }\n",
       "\n",
       "    .dataframe tbody tr th {\n",
       "        vertical-align: top;\n",
       "    }\n",
       "\n",
       "    .dataframe thead th {\n",
       "        text-align: right;\n",
       "    }\n",
       "</style>\n",
       "<table border=\"1\" class=\"dataframe\">\n",
       "  <thead>\n",
       "    <tr style=\"text-align: right;\">\n",
       "      <th></th>\n",
       "      <th>abundance</th>\n",
       "      <th>growth_rate</th>\n",
       "      <th>reactions</th>\n",
       "      <th>metabolites</th>\n",
       "    </tr>\n",
       "    <tr>\n",
       "      <th>compartments</th>\n",
       "      <th></th>\n",
       "      <th></th>\n",
       "      <th></th>\n",
       "      <th></th>\n",
       "    </tr>\n",
       "  </thead>\n",
       "  <tbody>\n",
       "    <tr>\n",
       "      <th>M_Bacteroides_fragilis_NCTC_9343_1</th>\n",
       "      <td>0.5</td>\n",
       "      <td>-4.806315e-12</td>\n",
       "      <td>2337</td>\n",
       "      <td>1987</td>\n",
       "    </tr>\n",
       "    <tr>\n",
       "      <th>M_Pseudomonas_aeruginosa_PAO1_0</th>\n",
       "      <td>0.5</td>\n",
       "      <td>2.497931e+01</td>\n",
       "      <td>2157</td>\n",
       "      <td>2022</td>\n",
       "    </tr>\n",
       "    <tr>\n",
       "      <th>medium</th>\n",
       "      <td>NaN</td>\n",
       "      <td>NaN</td>\n",
       "      <td>585</td>\n",
       "      <td>585</td>\n",
       "    </tr>\n",
       "  </tbody>\n",
       "</table>\n",
       "</div>"
      ],
      "text/plain": [
       "<CommunitySolution 12.490 at 0x2664c80db80>"
      ]
     },
     "execution_count": 15,
     "metadata": {},
     "output_type": "execute_result"
    }
   ],
   "source": [
    "# Displaying the list of growth rates\n",
    "print([r.growth_rate for r in solutions])\n",
    "solutions[2]"
   ]
  },
  {
   "cell_type": "code",
   "execution_count": 18,
   "id": "f3cf856e",
   "metadata": {},
   "outputs": [],
   "source": [
    "from micom.viz import plot_association, plot_exchanges_per_sample, plot_growth\n",
    "growth = [m.workflows.GrowthResults.from_solution(solutions[i], pathogen_communities[i]) for i in range(len(solutions))]\n",
    "for g in growth:\n",
    "    plot_growth(g, 'growth_rates_all_pathogens.html')"
   ]
  },
  {
   "cell_type": "markdown",
   "id": "5c8c5e23",
   "metadata": {},
   "source": [
    "According to the results, the communities with *B. fragilis* show more growth compared to those without it. This could be due to the fact that *B. fragilis* does not compete for the limited oxygen available at wound site with the aerobic *P.aeruginosa* and *S. aureus*. By looking at the third coculture, one can see that the growth of *B. fragilis* is completely inhibited by *P.aeruginosa*. Rerunning a larger coculture of 3 pathogens was warranted to see how *B. fragilis* fits into the final model of the microbiome."
   ]
  },
  {
   "cell_type": "code",
   "execution_count": 19,
   "id": "072a8a39",
   "metadata": {},
   "outputs": [],
   "source": [
    "all_pathogens_tax = create_tax_dataset([p_aeruginosa_pao1, s_aureus, b_fragilis],\n",
    "                                    [models_dictionary['p_aeruginosa_pao1'], models_dictionary['s_aureus_usa300'], models_dictionary['b_fragilis_nctc_9343']],\n",
    "                                    [250, 250, 200])"
   ]
  },
  {
   "cell_type": "code",
   "execution_count": 20,
   "id": "9e0e43af",
   "metadata": {},
   "outputs": [
    {
     "data": {
      "application/vnd.jupyter.widget-view+json": {
       "model_id": "fb011773878d447fb1f95ca2faa4cb6f",
       "version_major": 2,
       "version_minor": 0
      },
      "text/plain": [
       "Output()"
      ]
     },
     "metadata": {},
     "output_type": "display_data"
    },
    {
     "data": {
      "text/html": [
       "<pre style=\"white-space:pre;overflow-x:auto;line-height:normal;font-family:Menlo,'DejaVu Sans Mono',consolas,'Courier New',monospace\"></pre>\n"
      ],
      "text/plain": []
     },
     "metadata": {},
     "output_type": "display_data"
    },
    {
     "data": {
      "text/html": [
       "<pre style=\"white-space:pre;overflow-x:auto;line-height:normal;font-family:Menlo,'DejaVu Sans Mono',consolas,'Courier New',monospace\">\n",
       "</pre>\n"
      ],
      "text/plain": [
       "\n"
      ]
     },
     "metadata": {},
     "output_type": "display_data"
    }
   ],
   "source": [
    "all_pathogens = m.Community(all_pathogens_tax)"
   ]
  },
  {
   "cell_type": "code",
   "execution_count": 21,
   "id": "eaf0ae99",
   "metadata": {},
   "outputs": [],
   "source": [
    "# Performing OptCom to see how the community grows with respect to its individuals and the entire community\n",
    "# This method is commonly used to estimate growth in a more-or-less stable community, which is a good estimation\n",
    "# of a DFU when assessed at a particular point in time (i.e. change is negligble and so the egoistic growth may be the same as community's growth)\n",
    "#solution_pathogens = all_pathogens.optimize_all(True)\n",
    "solution_pathogen_community = all_pathogens.optimize(pfba=True)"
   ]
  },
  {
   "cell_type": "code",
   "execution_count": 22,
   "id": "fddbb424",
   "metadata": {},
   "outputs": [
    {
     "data": {
      "text/html": [
       "<strong>community growth:</strong> 44.152<br><strong>status:</strong> optimal<br><strong>taxa:</strong><div>\n",
       "<style scoped>\n",
       "    .dataframe tbody tr th:only-of-type {\n",
       "        vertical-align: middle;\n",
       "    }\n",
       "\n",
       "    .dataframe tbody tr th {\n",
       "        vertical-align: top;\n",
       "    }\n",
       "\n",
       "    .dataframe thead th {\n",
       "        text-align: right;\n",
       "    }\n",
       "</style>\n",
       "<table border=\"1\" class=\"dataframe\">\n",
       "  <thead>\n",
       "    <tr style=\"text-align: right;\">\n",
       "      <th></th>\n",
       "      <th>abundance</th>\n",
       "      <th>growth_rate</th>\n",
       "      <th>reactions</th>\n",
       "      <th>metabolites</th>\n",
       "    </tr>\n",
       "    <tr>\n",
       "      <th>compartments</th>\n",
       "      <th></th>\n",
       "      <th></th>\n",
       "      <th></th>\n",
       "      <th></th>\n",
       "    </tr>\n",
       "  </thead>\n",
       "  <tbody>\n",
       "    <tr>\n",
       "      <th>M_Bacteroides_fragilis_NCTC_9343_2</th>\n",
       "      <td>0.285714</td>\n",
       "      <td>43.744704</td>\n",
       "      <td>2337</td>\n",
       "      <td>1987</td>\n",
       "    </tr>\n",
       "    <tr>\n",
       "      <th>M_Pseudomonas_aeruginosa_PAO1_0</th>\n",
       "      <td>0.357143</td>\n",
       "      <td>44.214935</td>\n",
       "      <td>2157</td>\n",
       "      <td>2022</td>\n",
       "    </tr>\n",
       "    <tr>\n",
       "      <th>M_Staphylococcus_aureus_subsp_aureus_USA300_FPR3757_1</th>\n",
       "      <td>0.357143</td>\n",
       "      <td>44.415450</td>\n",
       "      <td>1514</td>\n",
       "      <td>1250</td>\n",
       "    </tr>\n",
       "    <tr>\n",
       "      <th>medium</th>\n",
       "      <td>NaN</td>\n",
       "      <td>NaN</td>\n",
       "      <td>615</td>\n",
       "      <td>615</td>\n",
       "    </tr>\n",
       "  </tbody>\n",
       "</table>\n",
       "</div>"
      ],
      "text/plain": [
       "<CommunitySolution 44.152 at 0x2664e8428d0>"
      ]
     },
     "execution_count": 22,
     "metadata": {},
     "output_type": "execute_result"
    }
   ],
   "source": [
    "solution_pathogen_community"
   ]
  },
  {
   "cell_type": "code",
   "execution_count": 23,
   "id": "c293b6d8",
   "metadata": {},
   "outputs": [],
   "source": [
    "from micom.viz import plot_association, plot_exchanges_per_sample, plot_growth\n",
    "growth = [m.workflows.GrowthResults.from_solution(solutions[i], pathogen_communities[i]) for i in range(len(solutions))]\n",
    "for g in growth:\n",
    "    plot_growth(g, 'growth_rates_all_pathogens_together.html')"
   ]
  },
  {
   "cell_type": "markdown",
   "id": "c1dac52f",
   "metadata": {},
   "source": [
    "Thus, in spite of *B. fragilis* not capable of growing in coculture with *P. aeruginosa* only, it is capable growing when *S. aureus* is in the community."
   ]
  },
  {
   "cell_type": "markdown",
   "id": "ee2d175e",
   "metadata": {},
   "source": [
    "### Mixed Cocultures"
   ]
  },
  {
   "cell_type": "code",
   "execution_count": null,
   "id": "5a69d24b",
   "metadata": {},
   "outputs": [],
   "source": [
    "mixed_cocultures = []"
   ]
  },
  {
   "cell_type": "markdown",
   "id": "2f5c6938",
   "metadata": {},
   "source": [
    "#### *P. aeruginosa* PAO1 with *L. brevis* ATCC 367"
   ]
  },
  {
   "cell_type": "code",
   "execution_count": 309,
   "id": "dcda95d4",
   "metadata": {},
   "outputs": [],
   "source": [
    "import micom as m\n",
    "import cobra\n",
    "import pandas as pd\n",
    "import numpy as np"
   ]
  },
  {
   "cell_type": "code",
   "execution_count": 310,
   "id": "aee9fe16",
   "metadata": {},
   "outputs": [],
   "source": [
    "# Loading models\n",
    "p_aeruginosa_pao1 = cobra.io.read_sbml_model(models_dictionary['p_aeruginosa_pao1'])\n",
    "l_brevis = cobra.io.read_sbml_model(models_dictionary['l_brevis_atcc367'])"
   ]
  },
  {
   "cell_type": "code",
   "execution_count": 311,
   "id": "ef30996b",
   "metadata": {},
   "outputs": [],
   "source": [
    "# Building a taxonomy file with equal and unequal (biased towards the pathogen) abundances\n",
    "equal_tax = create_tax_dataset([p_aeruginosa_pao1, l_brevis], paths=[models_dictionary['p_aeruginosa_pao1'], models_dictionary['l_brevis_atcc367']], abundance=[100, 100])\n",
    "unequal_tax = create_tax_dataset([p_aeruginosa_pao1, l_brevis], paths=[models_dictionary['p_aeruginosa_pao1'], models_dictionary['l_brevis_atcc367']], abundance=[150, 50])"
   ]
  },
  {
   "cell_type": "code",
   "execution_count": 312,
   "id": "1a7bef21",
   "metadata": {},
   "outputs": [
    {
     "data": {
      "application/vnd.jupyter.widget-view+json": {
       "model_id": "f0ec535f5177418bac7b31110716978d",
       "version_major": 2,
       "version_minor": 0
      },
      "text/plain": [
       "Output()"
      ]
     },
     "metadata": {},
     "output_type": "display_data"
    },
    {
     "data": {
      "text/html": [
       "<pre style=\"white-space:pre;overflow-x:auto;line-height:normal;font-family:Menlo,'DejaVu Sans Mono',consolas,'Courier New',monospace\"></pre>\n"
      ],
      "text/plain": []
     },
     "metadata": {},
     "output_type": "display_data"
    },
    {
     "data": {
      "text/html": [
       "<pre style=\"white-space:pre;overflow-x:auto;line-height:normal;font-family:Menlo,'DejaVu Sans Mono',consolas,'Courier New',monospace\">\n",
       "</pre>\n"
      ],
      "text/plain": [
       "\n"
      ]
     },
     "metadata": {},
     "output_type": "display_data"
    },
    {
     "data": {
      "application/vnd.jupyter.widget-view+json": {
       "model_id": "0d553a16f98e4342870dbeef431bbb7d",
       "version_major": 2,
       "version_minor": 0
      },
      "text/plain": [
       "Output()"
      ]
     },
     "metadata": {},
     "output_type": "display_data"
    },
    {
     "data": {
      "text/html": [
       "<pre style=\"white-space:pre;overflow-x:auto;line-height:normal;font-family:Menlo,'DejaVu Sans Mono',consolas,'Courier New',monospace\"></pre>\n"
      ],
      "text/plain": []
     },
     "metadata": {},
     "output_type": "display_data"
    },
    {
     "data": {
      "text/html": [
       "<pre style=\"white-space:pre;overflow-x:auto;line-height:normal;font-family:Menlo,'DejaVu Sans Mono',consolas,'Courier New',monospace\">\n",
       "</pre>\n"
      ],
      "text/plain": [
       "\n"
      ]
     },
     "metadata": {},
     "output_type": "display_data"
    }
   ],
   "source": [
    "# Building communities\n",
    "co_l_brevis_p_aeruginosa = []\n",
    "co_l_brevis_p_aeruginosa.append(m.Community(equal_tax, name=\"Mixed Coculture of L. brevis and P. aeruginosa (Equal)\"))\n",
    "co_l_brevis_p_aeruginosa.append(m.Community(unequal_tax, name=\"Mixed Coculture of L. brevis and P. aeruginosa (Unequal)\"))"
   ]
  },
  {
   "cell_type": "code",
   "execution_count": null,
   "id": "c324228b",
   "metadata": {},
   "outputs": [
    {
     "data": {
      "text/html": [
       "<div>\n",
       "<style scoped>\n",
       "    .dataframe tbody tr th:only-of-type {\n",
       "        vertical-align: middle;\n",
       "    }\n",
       "\n",
       "    .dataframe tbody tr th {\n",
       "        vertical-align: top;\n",
       "    }\n",
       "\n",
       "    .dataframe thead th {\n",
       "        text-align: right;\n",
       "    }\n",
       "</style>\n",
       "<table border=\"1\" class=\"dataframe\">\n",
       "  <thead>\n",
       "    <tr style=\"text-align: right;\">\n",
       "      <th></th>\n",
       "      <th>id</th>\n",
       "      <th>genus</th>\n",
       "      <th>species</th>\n",
       "      <th>reactions</th>\n",
       "      <th>metabolites</th>\n",
       "      <th>file</th>\n",
       "      <th>sample_id</th>\n",
       "      <th>abundance</th>\n",
       "    </tr>\n",
       "  </thead>\n",
       "  <tbody>\n",
       "    <tr>\n",
       "      <th>0</th>\n",
       "      <td>M_Pseudomonas_aeruginosa_PAO1_0</td>\n",
       "      <td>Pseudomonas</td>\n",
       "      <td>Pseudomonas aeruginosa PAO1</td>\n",
       "      <td>2155</td>\n",
       "      <td>2022</td>\n",
       "      <td>../model_data/Pseudomonas_aeruginosa_PAO1.xml</td>\n",
       "      <td>sample_1</td>\n",
       "      <td>100</td>\n",
       "    </tr>\n",
       "    <tr>\n",
       "      <th>1</th>\n",
       "      <td>M_Lactobacillus_brevis_ATCC_367_1</td>\n",
       "      <td>Lactobacillus</td>\n",
       "      <td>Lactobacillus brevis ATCC 367</td>\n",
       "      <td>1865</td>\n",
       "      <td>1597</td>\n",
       "      <td>../model_data/Lactobacillus_brevis_ATCC_367.xml</td>\n",
       "      <td>sample_1</td>\n",
       "      <td>100</td>\n",
       "    </tr>\n",
       "    <tr>\n",
       "      <th>2</th>\n",
       "      <td>M_Pseudomonas_aeruginosa_PAO1_0</td>\n",
       "      <td>Pseudomonas</td>\n",
       "      <td>Pseudomonas aeruginosa PAO1</td>\n",
       "      <td>2155</td>\n",
       "      <td>2022</td>\n",
       "      <td>../model_data/Pseudomonas_aeruginosa_PAO1.xml</td>\n",
       "      <td>sample_2</td>\n",
       "      <td>100</td>\n",
       "    </tr>\n",
       "    <tr>\n",
       "      <th>3</th>\n",
       "      <td>M_Lactobacillus_brevis_ATCC_367_1</td>\n",
       "      <td>Lactobacillus</td>\n",
       "      <td>Lactobacillus brevis ATCC 367</td>\n",
       "      <td>1865</td>\n",
       "      <td>1597</td>\n",
       "      <td>../model_data/Lactobacillus_brevis_ATCC_367.xml</td>\n",
       "      <td>sample_2</td>\n",
       "      <td>100</td>\n",
       "    </tr>\n",
       "    <tr>\n",
       "      <th>4</th>\n",
       "      <td>M_Pseudomonas_aeruginosa_PAO1_0</td>\n",
       "      <td>Pseudomonas</td>\n",
       "      <td>Pseudomonas aeruginosa PAO1</td>\n",
       "      <td>2155</td>\n",
       "      <td>2022</td>\n",
       "      <td>../model_data/Pseudomonas_aeruginosa_PAO1.xml</td>\n",
       "      <td>sample_3</td>\n",
       "      <td>100</td>\n",
       "    </tr>\n",
       "    <tr>\n",
       "      <th>5</th>\n",
       "      <td>M_Lactobacillus_brevis_ATCC_367_1</td>\n",
       "      <td>Lactobacillus</td>\n",
       "      <td>Lactobacillus brevis ATCC 367</td>\n",
       "      <td>1865</td>\n",
       "      <td>1597</td>\n",
       "      <td>../model_data/Lactobacillus_brevis_ATCC_367.xml</td>\n",
       "      <td>sample_3</td>\n",
       "      <td>100</td>\n",
       "    </tr>\n",
       "    <tr>\n",
       "      <th>6</th>\n",
       "      <td>M_Pseudomonas_aeruginosa_PAO1_0</td>\n",
       "      <td>Pseudomonas</td>\n",
       "      <td>Pseudomonas aeruginosa PAO1</td>\n",
       "      <td>2155</td>\n",
       "      <td>2022</td>\n",
       "      <td>../model_data/Pseudomonas_aeruginosa_PAO1.xml</td>\n",
       "      <td>sample_4</td>\n",
       "      <td>100</td>\n",
       "    </tr>\n",
       "    <tr>\n",
       "      <th>7</th>\n",
       "      <td>M_Lactobacillus_brevis_ATCC_367_1</td>\n",
       "      <td>Lactobacillus</td>\n",
       "      <td>Lactobacillus brevis ATCC 367</td>\n",
       "      <td>1865</td>\n",
       "      <td>1597</td>\n",
       "      <td>../model_data/Lactobacillus_brevis_ATCC_367.xml</td>\n",
       "      <td>sample_4</td>\n",
       "      <td>100</td>\n",
       "    </tr>\n",
       "  </tbody>\n",
       "</table>\n",
       "</div>"
      ],
      "text/plain": [
       "                                  id          genus  \\\n",
       "0    M_Pseudomonas_aeruginosa_PAO1_0    Pseudomonas   \n",
       "1  M_Lactobacillus_brevis_ATCC_367_1  Lactobacillus   \n",
       "2    M_Pseudomonas_aeruginosa_PAO1_0    Pseudomonas   \n",
       "3  M_Lactobacillus_brevis_ATCC_367_1  Lactobacillus   \n",
       "4    M_Pseudomonas_aeruginosa_PAO1_0    Pseudomonas   \n",
       "5  M_Lactobacillus_brevis_ATCC_367_1  Lactobacillus   \n",
       "6    M_Pseudomonas_aeruginosa_PAO1_0    Pseudomonas   \n",
       "7  M_Lactobacillus_brevis_ATCC_367_1  Lactobacillus   \n",
       "\n",
       "                         species  reactions  metabolites  \\\n",
       "0    Pseudomonas aeruginosa PAO1       2155         2022   \n",
       "1  Lactobacillus brevis ATCC 367       1865         1597   \n",
       "2    Pseudomonas aeruginosa PAO1       2155         2022   \n",
       "3  Lactobacillus brevis ATCC 367       1865         1597   \n",
       "4    Pseudomonas aeruginosa PAO1       2155         2022   \n",
       "5  Lactobacillus brevis ATCC 367       1865         1597   \n",
       "6    Pseudomonas aeruginosa PAO1       2155         2022   \n",
       "7  Lactobacillus brevis ATCC 367       1865         1597   \n",
       "\n",
       "                                              file sample_id  abundance  \n",
       "0    ../model_data/Pseudomonas_aeruginosa_PAO1.xml  sample_1        100  \n",
       "1  ../model_data/Lactobacillus_brevis_ATCC_367.xml  sample_1        100  \n",
       "2    ../model_data/Pseudomonas_aeruginosa_PAO1.xml  sample_2        100  \n",
       "3  ../model_data/Lactobacillus_brevis_ATCC_367.xml  sample_2        100  \n",
       "4    ../model_data/Pseudomonas_aeruginosa_PAO1.xml  sample_3        100  \n",
       "5  ../model_data/Lactobacillus_brevis_ATCC_367.xml  sample_3        100  \n",
       "6    ../model_data/Pseudomonas_aeruginosa_PAO1.xml  sample_4        100  \n",
       "7  ../model_data/Lactobacillus_brevis_ATCC_367.xml  sample_4        100  "
      ]
     },
     "execution_count": 342,
     "metadata": {},
     "output_type": "execute_result"
    }
   ],
   "source": [
    "# Building communities with multiple samples\n",
    "random_tax = create_tax_dataset([p_aeruginosa_pao1, l_brevis], paths=[models_dictionary['p_aeruginosa_pao1'], models_dictionary['l_brevis_atcc367']], abundance=[100, 100], include_sample_id=True, samples=4)\n",
    "co_l_brevis_p_aeruginosa.append(m.Community(random_tax))\n"
   ]
  },
  {
   "cell_type": "code",
   "execution_count": 330,
   "id": "3881fdb4",
   "metadata": {},
   "outputs": [],
   "source": [
    "# Updating media\n",
    "for comm in co_l_brevis_p_aeruginosa:\n",
    "    comm.medium = final_culture_medium"
   ]
  },
  {
   "cell_type": "code",
   "execution_count": 331,
   "id": "ffa4e5c0",
   "metadata": {},
   "outputs": [],
   "source": [
    "# Optimizing communities\n",
    "solutions = []\n",
    "solutions.append(co_l_brevis_p_aeruginosa[0].optimize(fluxes = True, pfba = True)) # Equal\n",
    "solutions.append(co_l_brevis_p_aeruginosa[1].optimize(fluxes = True, pfba = True)) # Unequal"
   ]
  },
  {
   "cell_type": "code",
   "execution_count": 335,
   "id": "1e7f9474",
   "metadata": {},
   "outputs": [
    {
     "data": {
      "text/html": [
       "<strong>community growth:</strong> 8.663<br><strong>status:</strong> optimal<br><strong>taxa:</strong><div>\n",
       "<style scoped>\n",
       "    .dataframe tbody tr th:only-of-type {\n",
       "        vertical-align: middle;\n",
       "    }\n",
       "\n",
       "    .dataframe tbody tr th {\n",
       "        vertical-align: top;\n",
       "    }\n",
       "\n",
       "    .dataframe thead th {\n",
       "        text-align: right;\n",
       "    }\n",
       "</style>\n",
       "<table border=\"1\" class=\"dataframe\">\n",
       "  <thead>\n",
       "    <tr style=\"text-align: right;\">\n",
       "      <th></th>\n",
       "      <th>abundance</th>\n",
       "      <th>growth_rate</th>\n",
       "      <th>reactions</th>\n",
       "      <th>metabolites</th>\n",
       "    </tr>\n",
       "    <tr>\n",
       "      <th>compartments</th>\n",
       "      <th></th>\n",
       "      <th></th>\n",
       "      <th></th>\n",
       "      <th></th>\n",
       "    </tr>\n",
       "  </thead>\n",
       "  <tbody>\n",
       "    <tr>\n",
       "      <th>M_Lactobacillus_brevis_ATCC_367_1</th>\n",
       "      <td>0.5</td>\n",
       "      <td>3.638740</td>\n",
       "      <td>1865</td>\n",
       "      <td>1597</td>\n",
       "    </tr>\n",
       "    <tr>\n",
       "      <th>M_Pseudomonas_aeruginosa_PAO1_0</th>\n",
       "      <td>0.5</td>\n",
       "      <td>13.687034</td>\n",
       "      <td>2155</td>\n",
       "      <td>2022</td>\n",
       "    </tr>\n",
       "    <tr>\n",
       "      <th>medium</th>\n",
       "      <td>NaN</td>\n",
       "      <td>NaN</td>\n",
       "      <td>537</td>\n",
       "      <td>537</td>\n",
       "    </tr>\n",
       "  </tbody>\n",
       "</table>\n",
       "</div>"
      ],
      "text/plain": [
       "<CommunitySolution 8.663 at 0x1fb96a197f0>"
      ]
     },
     "execution_count": 335,
     "metadata": {},
     "output_type": "execute_result"
    }
   ],
   "source": [
    "# Displaying results\n",
    "solutions[0]"
   ]
  },
  {
   "cell_type": "code",
   "execution_count": null,
   "id": "40b04e72",
   "metadata": {},
   "outputs": [],
   "source": [
    "from micom.viz import plot_growth\n",
    "pl = plot_growth(m.workflows.GrowthResults.from_solution(solutions[0], co_l_brevis_p_aeruginosa[0]), \"Mixed_Cocultures_l_brevis_p_aeruginosa.html\")"
   ]
  },
  {
   "cell_type": "markdown",
   "id": "363397ce",
   "metadata": {},
   "source": [
    "### All of the models together"
   ]
  },
  {
   "cell_type": "code",
   "execution_count": 24,
   "id": "66a451d4",
   "metadata": {},
   "outputs": [
    {
     "data": {
      "application/vnd.jupyter.widget-view+json": {
       "model_id": "2dc74e2856514b09b2b352a0066b936e",
       "version_major": 2,
       "version_minor": 0
      },
      "text/plain": [
       "Output()"
      ]
     },
     "metadata": {},
     "output_type": "display_data"
    },
    {
     "data": {
      "text/html": [
       "<pre style=\"white-space:pre;overflow-x:auto;line-height:normal;font-family:Menlo,'DejaVu Sans Mono',consolas,'Courier New',monospace\"></pre>\n"
      ],
      "text/plain": []
     },
     "metadata": {},
     "output_type": "display_data"
    },
    {
     "data": {
      "text/html": [
       "<pre style=\"white-space:pre;overflow-x:auto;line-height:normal;font-family:Menlo,'DejaVu Sans Mono',consolas,'Courier New',monospace\">\n",
       "</pre>\n"
      ],
      "text/plain": [
       "\n"
      ]
     },
     "metadata": {},
     "output_type": "display_data"
    }
   ],
   "source": [
    "microbiota_tax = create_tax_dataset([l_brevis, l_plantarum_jdm1, l_plantarum_wcfs1, p_aeruginosa_pao1, s_aureus, b_fragilis],\n",
    "                                    [models_dictionary['l_brevis_atcc367'], models_dictionary['l_plantarum_jdm1'], models_dictionary['l_plantarum_wcfs1'], models_dictionary['p_aeruginosa_pao1'], models_dictionary['s_aureus_usa300'], models_dictionary['b_fragilis_nctc_9343']],\n",
    "                                    [100, 100, 100, 250, 250, 200])\n",
    "microbiota = m.Community(microbiota_tax)"
   ]
  },
  {
   "cell_type": "code",
   "execution_count": 26,
   "id": "532e873b",
   "metadata": {},
   "outputs": [
    {
     "data": {
      "text/plain": [
       "<micom.viz.core.Visualization at 0x26646ca4c50>"
      ]
     },
     "execution_count": 26,
     "metadata": {},
     "output_type": "execute_result"
    }
   ],
   "source": [
    "# Plotting microbiome growth\n",
    "microbiota_solution = microbiota.optimize(fluxes=True, pfba=True)\n",
    "from micom.viz import plot_growth\n",
    "growth = m.workflows.GrowthResults.from_solution(microbiota_solution, microbiota)\n",
    "plot_growth(g, 'growth_rates_microbiota.html')"
   ]
  },
  {
   "cell_type": "code",
   "execution_count": null,
   "id": "15571f68",
   "metadata": {},
   "outputs": [],
   "source": [
    "knockout_analyses = []\n",
    "for ind, comm in enumerate([microbiota]):\n",
    "    knockout_analyses.append(comm.knockout_taxa(progress=True, diag=False))"
   ]
  },
  {
   "cell_type": "code",
   "execution_count": 28,
   "id": "885427a2",
   "metadata": {},
   "outputs": [
    {
     "data": {
      "image/png": "[encoded data removed]",
      "text/plain": [
       "<Figure size 640x480 with 2 Axes>"
      ]
     },
     "metadata": {},
     "output_type": "display_data"
    }
   ],
   "source": [
    "# Saving the results\n",
    "import seaborn as sns\n",
    "final_ko_results = knockout_analyses[0]\n",
    "sns.heatmap(final_ko_results)\n",
    "final_ko_results.to_csv('microbiota_taxa_ko.csv')"
   ]
  },
  {
   "cell_type": "markdown",
   "id": "75cf3fd6",
   "metadata": {},
   "source": [
    "### SHELVED"
   ]
  },
  {
   "cell_type": "code",
   "execution_count": 145,
   "id": "603e87d9",
   "metadata": {},
   "outputs": [],
   "source": [
    "b_fragilis = cobra.io.read_sbml_model(models_dictionary['b_fragilis_nctc_9343'])\n",
    "# Applying the oxygen constraint onto the b_fragilis model\n",
    "from optlang import Variable, Constraint, Objective\n",
    "# Storing reactions for oxygen and biomass\n",
    "o2_rxn = b_fragilis.reactions.get_by_id('EX_o2(e)')\n",
    "biomass_rxn = b_fragilis.reactions.get_by_id('EX_biomass(e)')\n",
    "# Declaring the alpha parameter to adjust the sensitivity\n",
    "_alpha_param = 0.1\n",
    "# Setting the model objective to biomass + alpha * v_o2, which will penalize oxygen uptake\n",
    "b_fragilis.objective = biomass_rxn\n",
    "b_fragilis.objective.set_linear_coefficients({o2_rxn.forward_variable: _alpha_param})"
   ]
  },
  {
   "cell_type": "code",
   "execution_count": null,
   "id": "b5c587da",
   "metadata": {},
   "outputs": [],
   "source": [
    "b_fragilis = cobra.io.read_sbml_model(models_dictionary['b_fragilis_nctc_9343'])\n",
    "# Applying the oxygen constraint onto the b_fragilis model\n",
    "from optlang import Variable, Constraint\n",
    "# Storing reactions for oxygen and biomass\n",
    "o2_rxn = b_fragilis.reactions.get_by_id('EX_o2(e)')\n",
    "biomass_rxn = b_fragilis.reactions.get_by_id('EX_biomass(e)')\n",
    "# Storing the maximum allowed flux for biomass growth\n",
    "biomass_max = b_fragilis.reactions.get_by_id('EX_biomass(e)').upper_bound\n",
    "# Declaring the alpha parameter to adjust the sensitivity\n",
    "_alpha_param = 0.1\n",
    "# Declaring the constraint expression\n",
    "expression = biomass_rxn.flux_expression + _alpha_param*o2_rxn.flux_expression\n",
    "oxygen_cons = Constraint(expression, lb=-1e-6, ub=biomass_max)\n",
    "b_fragilis.solver.add(oxygen_cons)"
   ]
  }
 ],
 "metadata": {
  "kernelspec": {
   "display_name": "Python 3",
   "language": "python",
   "name": "python3"
  },
  "language_info": {
   "codemirror_mode": {
    "name": "ipython",
    "version": 3
   },
   "file_extension": ".py",
   "mimetype": "text/x-python",
   "name": "python",
   "nbconvert_exporter": "python",
   "pygments_lexer": "ipython3",
   "version": "3.12.1"
  }
 },
 "nbformat": 4,
 "nbformat_minor": 5
}
